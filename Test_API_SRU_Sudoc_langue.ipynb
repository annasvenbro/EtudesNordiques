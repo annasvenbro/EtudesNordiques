{
  "cells": [
    {
      "cell_type": "markdown",
      "metadata": {
        "id": "view-in-github",
        "colab_type": "text"
      },
      "source": [
        "<a href=\"https://colab.research.google.com/github/annasvenbro/etudesnordiques/blob/main/Test_API_SRU_Sudoc_langue.ipynb\" target=\"_parent\"><img src=\"https://colab.research.google.com/assets/colab-badge.svg\" alt=\"Open In Colab\"/></a>"
      ]
    },
    {
      "cell_type": "markdown",
      "metadata": {
        "id": "6CM937WrYmyQ"
      },
      "source": [
        "#Test de l'API SRU du Sudoc pour la présence des fonds en langues étrangères dans les RCR du réseau"
      ]
    },
    {
      "cell_type": "markdown",
      "metadata": {
        "id": "uH5HCzEtZfhg"
      },
      "source": [
        "##Import des paquets nécessaires"
      ]
    },
    {
      "cell_type": "code",
      "execution_count": 1,
      "metadata": {
        "id": "PDw118LMYmOB"
      },
      "outputs": [],
      "source": [
        "import requests as rq\n",
        "import xml.etree.ElementTree as et\n",
        "import pandas as pd\n",
        "import numpy as np"
      ]
    },
    {
      "cell_type": "markdown",
      "metadata": {
        "id": "Er8KIGVYvGJ9"
      },
      "source": [
        "## Récupérer les données RCR du Sudoc"
      ]
    },
    {
      "cell_type": "markdown",
      "metadata": {
        "id": "a_MSwfP5-aHj"
      },
      "source": [
        "###Requêter le jeu de données en *open data* d'IdRef pour la liste des RCR via le *webservice* \"listrcr\" de l'ABES (jeu de données complet *a priori*, avec 2964 entrées)."
      ]
    },
    {
      "cell_type": "code",
      "execution_count": null,
      "metadata": {
        "id": "5-K5evvcVN_F"
      },
      "outputs": [],
      "source": [
        "liste_rcr=rq.get(\"https://www.idref.fr/services/listrcr\") #On requête l'URL du webservice.\n",
        "liste_rcr_text=liste_rcr.text #On voit la tête de la réponse.\n",
        "liste_rcr_text"
      ]
    },
    {
      "cell_type": "code",
      "execution_count": null,
      "metadata": {
        "id": "eVugiYtMbJ4f"
      },
      "outputs": [],
      "source": [
        "lines=liste_rcr_text.split(\"\\n\")#Transformation de la réponse en tableau.\n",
        "header=lines[0].split(\"\\t\")\n",
        "header[0]=header[0].strip(\"\\ufeff\") #Pour ne pas avoir de bug dans le dataframe final avec les BOM.\n",
        "data=[line.split(\"\\t\") for line in lines[1:] if line]\n",
        "df_rcr=pd.DataFrame(data,columns=header)\n",
        "df_rcr"
      ]
    },
    {
      "cell_type": "code",
      "execution_count": null,
      "metadata": {
        "id": "pzQf25wecmFN"
      },
      "outputs": [],
      "source": [
        "df_rcr.columns = df_rcr.columns.str.strip(\"\\ufeff\") #Nettoyage du dataframe (BOM, signe égal, guillemets et autres caractères parasites).\n",
        "df_rcr[\"RCR\"]=df_rcr[\"RCR\"].str.replace(\"=\",\"\")\n",
        "df_rcr[\"RCR\"]=df_rcr[\"RCR\"].str.replace('\"','')\n",
        "df_rcr= df_rcr.rename(columns={\"LONGITUDE\\r\":\"LONGITUDE\"})\n",
        "df_rcr[\"LONGITUDE\"]=df_rcr[\"LONGITUDE\"].str.rstrip(\"\\r\")\n",
        "df_rcr"
      ]
    },
    {
      "cell_type": "markdown",
      "metadata": {
        "id": "YdRYPRl--o8S"
      },
      "source": [
        "###Sélection des données pertinentes destinées à alimenter le *dataframe* par RCR à construire pour une langue donnée"
      ]
    },
    {
      "cell_type": "markdown",
      "metadata": {
        "id": "7GyDntV1RMq8"
      },
      "source": [
        "Maintenant, il faut ne retenir dans le *dataframe* que 1. le n°RCR de ces bibliothèques, 2.le nom complet, 3. les coordonnées géographiques."
      ]
    },
    {
      "cell_type": "code",
      "execution_count": null,
      "metadata": {
        "id": "E1iWw36yed5k"
      },
      "outputs": [],
      "source": [
        "df_rcr=df_rcr.filter(regex='^RCR$|^LIBELLE$|^LATITUDE$|^LONGITUDE$')#Sinon on a un bug à cause des BOM.\n",
        "df_rcr"
      ]
    },
    {
      "cell_type": "markdown",
      "metadata": {
        "id": "61e3HvGsvaJs"
      },
      "source": [
        "##Établir un *dataframe* avec tous les résultats par RCR pour une langue donnée"
      ]
    },
    {
      "cell_type": "markdown",
      "metadata": {
        "id": "HhdJVmfBxboB"
      },
      "source": [
        "###Création de la fonction de requête en fonction du numéro RCR et de la langue"
      ]
    },
    {
      "cell_type": "code",
      "execution_count": null,
      "metadata": {
        "id": "VlSXs6PKk0Sn"
      },
      "outputs": [],
      "source": [
        "langue_fr=input(\"Quelle est la langue dont vous souhaiteriez obtenir une cartographie des fonds dans le Sudoc ? \")#On pose la question de la langue à requêter."
      ]
    },
    {
      "cell_type": "code",
      "execution_count": null,
      "metadata": {
        "id": "mNJtUHa3niNd"
      },
      "outputs": [],
      "source": [
        "#À cette variable, on va en associer une autre correspondant au code ISO 639-2 dont se sert l'API du Sudoc pour ses codes de langue.\n",
        "langues=rq.get(\"https://www.loc.gov/standards/iso639-2/ISO-639-2_utf-8.txt\") #On va donc créer un dataframe avec les codes de langues, à partir de la liste publiée par la Library of Congress.\n",
        "langues.encoding=\"utf-8\"\n",
        "langues_text=langues.text.lstrip(\"\\ufeff\") #Encore une fois, pour ne pas avoir de bug dans le dataframe final avec les BOM.\n",
        "langues_text"
      ]
    },
    {
      "cell_type": "code",
      "execution_count": null,
      "metadata": {
        "id": "lM2fc9EnrWGW"
      },
      "outputs": [],
      "source": [
        "lines=langues_text.split(\"\\n\") #Création du dataframe des différentes langues.\n",
        "data_list=[]\n",
        "for line in lines:\n",
        "    if line.strip() != \"\":\n",
        "        columns = line.split(\"|\")\n",
        "        data_list.append({\n",
        "            \"Code\":columns[0],\n",
        "            \"Bibliographic\":columns[1],\n",
        "            \"Terminology\":columns[2],\n",
        "            \"French\":columns[4]\n",
        "        })\n",
        "df_langues=pd.DataFrame(data_list)\n",
        "df_langues"
      ]
    },
    {
      "cell_type": "code",
      "execution_count": null,
      "metadata": {
        "id": "LTnqH4mtuO8e"
      },
      "outputs": [],
      "source": [
        "langue=df_langues[df_langues[\"French\"].str.lower()==langue_fr.lower()][\"Code\"].values[0]\n",
        "langue"
      ]
    },
    {
      "cell_type": "markdown",
      "metadata": {
        "id": "KYZSpe3rwHo5"
      },
      "source": [
        "Attention !!! API du Sudoc distingue 10 langues dans autres pour lesquelles il faut utiliser la limitation LAN au lieu de LAI dans la requête API. On va donc devoir faire une disjonction entre les langues qu'il faudra requêter avec le code \"LAN\" et celle avec le code \"LAI\"."
      ]
    },
    {
      "cell_type": "code",
      "execution_count": null,
      "metadata": {
        "id": "tdHJU810wo8h"
      },
      "outputs": [],
      "source": [
        "LAN=[\"ger\",\"eng\",\"spa\",\"fre\",\"ita\",\"lat\",\"dut\",\"pol\",\"por\",\"rus\"] #On définit la liste des codes de langues centrales devant être requêtées avec le code \"LAN\" dans l'API du Sudoc."
      ]
    },
    {
      "cell_type": "code",
      "execution_count": null,
      "metadata": {
        "id": "8_BKjCh0rMse"
      },
      "outputs": [],
      "source": [
        "def get_langue_sudoc(RCR,langue):\n",
        "  if langue in LAN:\n",
        "   req=rq.get(f\"https://www.sudoc.abes.fr/cbs/sru/?operation=searchRetrieve&version=1.1&recordSchema=unimarc&query=rbc%3D{RCR}%20and%20lan%3D{langue}\")\n",
        "  else:req=rq.get(f\"https://www.sudoc.abes.fr/cbs/sru/?operation=searchRetrieve&version=1.1&recordSchema=unimarc&query=rbc%3D{RCR}%20and%20lai%3D{langue}\")\n",
        "  root_sudoc=et.fromstring(req.content)\n",
        "  for child in root_sudoc.findall(\"{http://www.loc.gov/zing/srw/}numberOfRecords\"):\n",
        "    return child.text"
      ]
    },
    {
      "cell_type": "code",
      "execution_count": null,
      "metadata": {
        "id": "31qKSq4H0aC2"
      },
      "outputs": [],
      "source": [
        "get_langue_sudoc(751052116,langue) #On teste la fonction pour le Fonds Général de la BSG."
      ]
    },
    {
      "cell_type": "markdown",
      "metadata": {
        "id": "qoPpZIPVxhQY"
      },
      "source": [
        "###Création d'un *dataframe* des résultats pour tous les RCR pour une langue donnée (celle donnée par la réponse à la question \"Quelle est la langue dont vous souhaiteriez obtenir une cartographie des fonds dans le Sudoc ? \")"
      ]
    },
    {
      "cell_type": "code",
      "execution_count": null,
      "metadata": {
        "id": "9q8MUxEM5FAW"
      },
      "outputs": [],
      "source": [
        "df_rcr[\"Notices\"]=df_rcr.apply(lambda row: get_langue_sudoc(row[\"RCR\"],langue), axis=1)\n",
        "df_rcr"
      ]
    },
    {
      "cell_type": "markdown",
      "metadata": {
        "id": "xXkd71i_MFlH"
      },
      "source": [
        "La mise à jour du *dataframe* prend un certain temps (33 minutes pour le vietnamien)..."
      ]
    },
    {
      "cell_type": "code",
      "execution_count": null,
      "metadata": {
        "id": "fZmqE_jDtdZa"
      },
      "outputs": [],
      "source": [
        "df_rcr.dtypes #Ce n'est toujours pas propre pour les notices, qui ne sont pas au format numérique."
      ]
    },
    {
      "cell_type": "code",
      "execution_count": null,
      "metadata": {
        "id": "DfCpdrNCtmmS"
      },
      "outputs": [],
      "source": [
        "df_rcr[\"Notices\"]=pd.to_numeric(df_rcr[\"Notices\"]) #On veut que cette colonne contienne des données numériques.\n",
        "df_rcr.dtypes# On vérifie."
      ]
    },
    {
      "cell_type": "code",
      "execution_count": null,
      "metadata": {
        "id": "wUlXo9NpQbo8"
      },
      "outputs": [],
      "source": [
        "df_rcr=df_rcr[df_rcr[\"Notices\"]!=0] #On supprime les lignes des RCR qui n'ont pas de notices dans la langue concernée.\n",
        "df_rcr"
      ]
    },
    {
      "cell_type": "code",
      "execution_count": null,
      "metadata": {
        "id": "rtoqlHPA0mQv"
      },
      "outputs": [],
      "source": [
        "df_rcr=df_rcr.sort_values([\"Notices\"],ascending=False)#On retrie le dataframe pour afficher d'abord les RCR ayant le plus grand nombre de documents.\n",
        "df_rcr"
      ]
    },
    {
      "cell_type": "markdown",
      "metadata": {
        "id": "03fgT8j_1iEA"
      },
      "source": [
        "##Représentations cartographiques et diagrammes"
      ]
    },
    {
      "cell_type": "markdown",
      "metadata": {
        "id": "ic7fGeaNufVK"
      },
      "source": [
        "###Création du *geodataframe* et carte des RCR qui ont des notices dans la langue concernée"
      ]
    },
    {
      "cell_type": "markdown",
      "metadata": {
        "id": "LHZJGQ51uuK_"
      },
      "source": [
        "####Installation et importation des paquets nécessaires à la cartographie"
      ]
    },
    {
      "cell_type": "code",
      "execution_count": null,
      "metadata": {
        "id": "jOJXIhr7JtW4"
      },
      "outputs": [],
      "source": [
        "pip install geopandas"
      ]
    },
    {
      "cell_type": "code",
      "execution_count": null,
      "metadata": {
        "id": "O3qGYHWByJSQ"
      },
      "outputs": [],
      "source": [
        "pip install mapclassify"
      ]
    },
    {
      "cell_type": "code",
      "execution_count": null,
      "metadata": {
        "id": "jpsg13-MxiJD"
      },
      "outputs": [],
      "source": [
        "import geopandas as gpd\n",
        "from shapely.geometry import Point\n",
        "import matplotlib.pyplot as plt\n",
        "import matplotlib.cm as cm\n",
        "from pyproj import CRS\n",
        "import mapclassify"
      ]
    },
    {
      "cell_type": "markdown",
      "metadata": {
        "id": "WZoxZDOMG92W"
      },
      "source": [
        "####Préparation des données du dataframe précédent et création du geodataframe"
      ]
    },
    {
      "cell_type": "code",
      "execution_count": null,
      "metadata": {
        "id": "q6h5emlGaX8W"
      },
      "outputs": [],
      "source": [
        "df_rcr[\"LATITUDE\"].replace(\"null\",None,inplace=True) #On doit s'occuper des RCR qui n'ont pas de données de géolocalisation.\n",
        "df_rcr[\"LONGITUDE\"].replace(\"null\",None,inplace=True)"
      ]
    },
    {
      "cell_type": "code",
      "execution_count": null,
      "metadata": {
        "id": "GxakiLqPaooW"
      },
      "outputs": [],
      "source": [
        "def create_point(row):\n",
        "    latitude=float(row[\"LATITUDE\"]) if row[\"LATITUDE\"] is not None else None\n",
        "    longitude=float(row[\"LONGITUDE\"]) if row[\"LONGITUDE\"] is not None else None\n",
        "    return Point(longitude,latitude) if latitude and longitude else None"
      ]
    },
    {
      "cell_type": "code",
      "execution_count": null,
      "metadata": {
        "id": "O9FUztYua132"
      },
      "outputs": [],
      "source": [
        "df_rcr[\"geometry\"] =df_rcr.apply(create_point,axis=1)"
      ]
    },
    {
      "cell_type": "code",
      "execution_count": null,
      "metadata": {
        "id": "rHX7i01ObBS1"
      },
      "outputs": [],
      "source": [
        "gdf=gpd.GeoDataFrame(df_rcr,geometry=\"geometry\")"
      ]
    },
    {
      "cell_type": "code",
      "execution_count": null,
      "metadata": {
        "id": "ovNIEVmlbHFl"
      },
      "outputs": [],
      "source": [
        "gdf"
      ]
    },
    {
      "cell_type": "markdown",
      "metadata": {
        "id": "4C62AELYTwUq"
      },
      "source": [
        "####Création de la carte repérant les RCR qui ont des documents dans la langue souhaitée"
      ]
    },
    {
      "cell_type": "markdown",
      "metadata": {
        "id": "hWWeq0kDN1P2"
      },
      "source": [
        "L'objet de cette première visualitation cartographique est de repérer les RCR en question, pas de présenter des éléments quantitatifs."
      ]
    },
    {
      "cell_type": "markdown",
      "metadata": {
        "id": "w-BfIcZyTRQR"
      },
      "source": [
        "####Import du fond de carte"
      ]
    },
    {
      "cell_type": "code",
      "execution_count": null,
      "metadata": {
        "id": "NeUrEJKqOGXx"
      },
      "outputs": [],
      "source": [
        "fond_de_carte=gpd.read_file(\"https://www.data.gouv.fr/fr/datasets/r/087ab701-f21d-4046-b53e-8b647baf505d\",crs=\"EPSG:2154\") #On charge les données de la carte de France sur data.gouv.fr, en Lambert 93.\n",
        "# On part d'ici \"https://www.data.gouv.fr/fr/datasets/carte-des-101-departements-francais-projetes-en-lambert-sous-la-metropole/, comme ça tous les RCR du Sudoc seront représentés."
      ]
    },
    {
      "cell_type": "markdown",
      "metadata": {
        "id": "phzpYWa6RL1w"
      },
      "source": [
        "####Mise à la norme de projection Lambert93 du *geodataframe*"
      ]
    },
    {
      "cell_type": "code",
      "execution_count": null,
      "metadata": {
        "id": "qW024Fb195Qs"
      },
      "outputs": [],
      "source": [
        "print(gdf.crs)#Le CRS n'est pas défini pour le geodataframe !"
      ]
    },
    {
      "cell_type": "code",
      "execution_count": null,
      "metadata": {
        "id": "eDLoSgXFEOuG"
      },
      "outputs": [],
      "source": [
        "gdf.set_crs(epsg=4326,inplace=True)#On définit bien la colonne \"geometry\" avec le CRS classique \"longitude/latitude\"."
      ]
    },
    {
      "cell_type": "code",
      "execution_count": null,
      "metadata": {
        "id": "TauFiHfaEYlh"
      },
      "outputs": [],
      "source": [
        "print(gdf.crs) #On vérifie que c'est bon."
      ]
    },
    {
      "cell_type": "code",
      "execution_count": null,
      "metadata": {
        "id": "CJx1iqhE-RP_"
      },
      "outputs": [],
      "source": [
        "gdf=gdf.to_crs(epsg=2154) #On convertit les coordonnées classiques selon la projection Lambert93."
      ]
    },
    {
      "cell_type": "code",
      "execution_count": null,
      "metadata": {
        "id": "jE_TPGEM5qS0"
      },
      "outputs": [],
      "source": [
        "gdf=gdf.to_crs(fond_de_carte.crs) #On convertit la projection cartographique."
      ]
    },
    {
      "cell_type": "code",
      "execution_count": null,
      "metadata": {
        "id": "mrxMKXmol7gv"
      },
      "outputs": [],
      "source": [
        "gdf"
      ]
    },
    {
      "cell_type": "markdown",
      "metadata": {
        "id": "ItBYxOaHRZPJ"
      },
      "source": [
        "####Tracé de la carte"
      ]
    },
    {
      "cell_type": "code",
      "execution_count": null,
      "metadata": {
        "id": "A5t_JHmPO8e3"
      },
      "outputs": [],
      "source": [
        "fig,ax=plt.subplots(figsize=(10,10)) #On créé la figure et les axes.\n",
        "x_min,y_min,x_max,y_max=fond_de_carte.total_bounds #On limite notre étendue des axes aux limites du fond de carte.\n",
        "marge=50000\n",
        "ax.set_xlim(x_min-marge,x_max+marge)\n",
        "ax.set_ylim(y_min-marge,y_max+marge)\n",
        "fond_de_carte.plot(ax=ax,color=\"white\",edgecolor=\"black\") #On trace le fond de carte.\n",
        "gdf.plot(ax=ax, color=\"blue\", markersize=10) #On trace les points.\n",
        "ax.set_title(\"Les fonds en \"+langue_fr+\" dans le Sudoc\")"
      ]
    },
    {
      "cell_type": "markdown",
      "metadata": {
        "id": "e3r6i9HpVorX"
      },
      "source": [
        "###Carte avec pondérations tenant compte du nombre de notices"
      ]
    },
    {
      "cell_type": "markdown",
      "metadata": {
        "id": "67WYZMaWj90M"
      },
      "source": [
        "Visualisation cartographique avec des données quantitatives concernant le nombre de notices à l'aide d'une *bubblemap*\n"
      ]
    },
    {
      "cell_type": "code",
      "execution_count": null,
      "metadata": {
        "id": "91Hjpkt9v768"
      },
      "outputs": [],
      "source": [
        "fig,ax=plt.subplots(figsize=(10,10)) #Pareil que tout à l'heure.\n",
        "x_min,y_min,x_max,y_max=fond_de_carte.total_bounds\n",
        "marge = 50000\n",
        "ax.set_xlim(x_min - marge, x_max + marge)\n",
        "ax.set_ylim(y_min - marge, y_max + marge)\n",
        "fond_de_carte.plot(ax=ax, color=\"white\", edgecolor=\"black\")\n",
        "\n",
        "gdf.plot(ax=ax,column=\"Notices\",cmap=\"YlGnBu\",scheme=\"natural_breaks\",legend=True,markersize=gdf[\"Notices\"],alpha=0.7)  #On trace les points avec la taille basée sur la colonne \"Notices\". On utilise une échelle de couleurs du jaune vers le bleu.\n",
        "ax.set_title(\"Bubble map des fonds en \"+langue_fr+\" dans le Sudoc\")"
      ]
    },
    {
      "cell_type": "markdown",
      "metadata": {
        "id": "3RbojpFo1q3L"
      },
      "source": [
        "###Diagramme en barres des 25 premières bibliothèques posssédant des fonds dans la langue choisie en termes de nombre de notices"
      ]
    },
    {
      "cell_type": "code",
      "execution_count": null,
      "metadata": {
        "id": "AfrK_4L71_LA"
      },
      "outputs": [],
      "source": [
        "df_top_25=df_rcr.sort_values(\"Notices\",ascending=False).head(25) #On veut le top 25 du Sudoc en termes de nombres de notices.\n",
        "plt.figure(figsize=(12,6))\n",
        "plt.bar(df_top_25[\"RCR\"], df_top_25[\"Notices\"])\n",
        "plt.xlabel(\"RCR\")\n",
        "plt.ylabel(\"Nombre de notices\")\n",
        "plt.title(\"Top 25 des RCR par nombre de notices de documents en \"+langue_fr)\n",
        "plt.xticks(rotation=45)\n",
        "plt.tight_layout()"
      ]
    }
  ],
  "metadata": {
    "colab": {
      "toc_visible": true,
      "provenance": [],
      "authorship_tag": "ABX9TyNGGu8JcXNXubSXLOFNV2DE",
      "include_colab_link": true
    },
    "kernelspec": {
      "display_name": "Python 3",
      "name": "python3"
    },
    "language_info": {
      "name": "python"
    }
  },
  "nbformat": 4,
  "nbformat_minor": 0
}