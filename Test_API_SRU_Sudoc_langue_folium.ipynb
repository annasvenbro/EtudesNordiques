{
  "cells": [
    {
      "cell_type": "markdown",
      "metadata": {
        "id": "view-in-github",
        "colab_type": "text"
      },
      "source": [
        "<a href=\"https://colab.research.google.com/github/annasvenbro/etudesnordiques/blob/main/Test_API_SRU_Sudoc_langue_folium.ipynb\" target=\"_parent\"><img src=\"https://colab.research.google.com/assets/colab-badge.svg\" alt=\"Open In Colab\"/></a>"
      ]
    },
    {
      "cell_type": "markdown",
      "metadata": {
        "id": "6CM937WrYmyQ"
      },
      "source": [
        "#Test de l'API SRU du Sudoc pour la présence des fonds en langues étrangères dans les RCR du réseau : version utilisant Folium"
      ]
    },
    {
      "cell_type": "markdown",
      "metadata": {
        "id": "uH5HCzEtZfhg"
      },
      "source": [
        "##Import des paquets nécessaires"
      ]
    },
    {
      "cell_type": "code",
      "execution_count": null,
      "metadata": {
        "id": "PDw118LMYmOB"
      },
      "outputs": [],
      "source": [
        "import requests as rq\n",
        "import xml.etree.ElementTree as et\n",
        "import pandas as pd\n",
        "import numpy as np"
      ]
    },
    {
      "cell_type": "markdown",
      "metadata": {
        "id": "Er8KIGVYvGJ9"
      },
      "source": [
        "## Récupérer les données RCR du Sudoc"
      ]
    },
    {
      "cell_type": "markdown",
      "metadata": {
        "id": "a_MSwfP5-aHj"
      },
      "source": [
        "###Requêter le jeu de données en *open data* d'IdRef pour la liste des RCR via le *webservice* \"listrcr\" de l'ABES (jeu de données complet *a priori*, avec 2957 entrées)."
      ]
    },
    {
      "cell_type": "code",
      "execution_count": null,
      "metadata": {
        "id": "5-K5evvcVN_F"
      },
      "outputs": [],
      "source": [
        "liste_rcr=rq.get(\"https://www.idref.fr/services/listrcr\") #On requête l'URL du webservice.\n",
        "liste_rcr_text=liste_rcr.text #On voit la tête de la réponse.\n",
        "liste_rcr_text"
      ]
    },
    {
      "cell_type": "code",
      "execution_count": null,
      "metadata": {
        "id": "eVugiYtMbJ4f"
      },
      "outputs": [],
      "source": [
        "lines=liste_rcr_text.split(\"\\n\")#Transformation de la réponse en tableau.\n",
        "header=lines[0].split(\"\\t\")\n",
        "header[0]=header[0].strip(\"\\ufeff\") #Pour ne pas avoir de bug dans le dataframe final avec les BOM.\n",
        "data=[line.split(\"\\t\") for line in lines[1:] if line]\n",
        "df_rcr=pd.DataFrame(data,columns=header) #Transformation en dataframe.\n",
        "df_rcr"
      ]
    },
    {
      "cell_type": "code",
      "execution_count": null,
      "metadata": {
        "id": "pzQf25wecmFN"
      },
      "outputs": [],
      "source": [
        "df_rcr.columns=df_rcr.columns.str.strip(\"\\ufeff\") #Nettoyage du dataframe (BOM, signe égal, guillemets et autres caractères parasites).\n",
        "df_rcr[\"RCR\"]=df_rcr[\"RCR\"].str.replace(\"=\",\"\")\n",
        "df_rcr[\"RCR\"]=df_rcr[\"RCR\"].str.replace('\"','')\n",
        "df_rcr[\"PPN\"]=df_rcr[\"PPN\"].str.replace(\"=\",\"\")\n",
        "df_rcr[\"PPN\"]=df_rcr[\"PPN\"].str.replace('\"','')\n",
        "df_rcr= df_rcr.rename(columns={\"LONGITUDE\\r\":\"LONGITUDE\"})\n",
        "df_rcr[\"LONGITUDE\"]=df_rcr[\"LONGITUDE\"].str.rstrip(\"\\r\")\n",
        "df_rcr"
      ]
    },
    {
      "cell_type": "markdown",
      "metadata": {
        "id": "YdRYPRl--o8S"
      },
      "source": [
        "###Sélection des données pertinentes destinées à alimenter le *dataframe* par RCR à construire pour une langue donnée"
      ]
    },
    {
      "cell_type": "markdown",
      "metadata": {
        "id": "7GyDntV1RMq8"
      },
      "source": [
        "Maintenant, il faut ne retenir dans le *dataframe* que 1. le n°RCR de ces bibliothèques, 2. leur PPN (utile pour les infobulles ultérieurement), 3. le nom complet, 4. les coordonnées géographiques."
      ]
    },
    {
      "cell_type": "code",
      "execution_count": null,
      "metadata": {
        "id": "E1iWw36yed5k"
      },
      "outputs": [],
      "source": [
        "df_rcr=df_rcr.filter(regex='^RCR$|^LIBELLE$|^PPN$|^LATITUDE$|^LONGITUDE$')#Sinon on a un bug à cause des BOM.\n",
        "df_rcr"
      ]
    },
    {
      "cell_type": "markdown",
      "metadata": {
        "id": "61e3HvGsvaJs"
      },
      "source": [
        "##Établir un *dataframe* avec tous les résultats par RCR pour une langue donnée"
      ]
    },
    {
      "cell_type": "markdown",
      "metadata": {
        "id": "HhdJVmfBxboB"
      },
      "source": [
        "###Création de la fonction de requête en fonction du numéro RCR et de la langue"
      ]
    },
    {
      "cell_type": "code",
      "execution_count": null,
      "metadata": {
        "id": "VlSXs6PKk0Sn"
      },
      "outputs": [],
      "source": [
        "langue_fr=input(\"Quelle est la langue dont vous souhaiteriez obtenir une cartographie des fonds dans le Sudoc ? \")#On pose la question de la langue à requêter."
      ]
    },
    {
      "cell_type": "code",
      "execution_count": null,
      "metadata": {
        "id": "mNJtUHa3niNd"
      },
      "outputs": [],
      "source": [
        "#À cette variable, on va en associer une autre correspondant au code ISO 639-2 dont se sert l'API du Sudoc pour ses codes de langue.\n",
        "langues=rq.get(\"https://www.loc.gov/standards/iso639-2/ISO-639-2_utf-8.txt\") #On va donc créer un dataframe avec les codes de langues, à partir de la liste publiée par la Library of Congress.\n",
        "langues.encoding=\"utf-8\"\n",
        "langues_text=langues.text.lstrip(\"\\ufeff\") #Encore une fois, pour ne pas avoir de bug dans le dataframe final avec les BOM.\n",
        "langues_text"
      ]
    },
    {
      "cell_type": "code",
      "execution_count": null,
      "metadata": {
        "id": "lM2fc9EnrWGW"
      },
      "outputs": [],
      "source": [
        "lines=langues_text.split(\"\\n\") #Création du dataframe des différentes langues.\n",
        "data_list=[]\n",
        "for line in lines:\n",
        "    if line.strip() != \"\":\n",
        "        columns = line.split(\"|\")\n",
        "        data_list.append({\n",
        "            \"Code\":columns[0],\n",
        "            \"Bibliographic\":columns[1],\n",
        "            \"Terminology\":columns[2],\n",
        "            \"French\":columns[4]\n",
        "        })\n",
        "df_langues=pd.DataFrame(data_list)\n",
        "df_langues"
      ]
    },
    {
      "cell_type": "code",
      "execution_count": null,
      "metadata": {
        "id": "LTnqH4mtuO8e"
      },
      "outputs": [],
      "source": [
        "langue=df_langues[df_langues[\"French\"].str.lower().str.contains(langue_fr.lower())][\"Code\"].values[0]\n",
        "langue"
      ]
    },
    {
      "cell_type": "markdown",
      "metadata": {
        "id": "KYZSpe3rwHo5"
      },
      "source": [
        "Attention !!! API du Sudoc distingue 10 langues pour lesquelles il faut utiliser la limitation LAN au lieu de LAI dans la requête API. On va donc devoir faire une disjonction entre les langues qu'il faudra requêter avec le code \"LAN\" et celle avec le code \"LAI\"."
      ]
    },
    {
      "cell_type": "code",
      "execution_count": null,
      "metadata": {
        "id": "tdHJU810wo8h"
      },
      "outputs": [],
      "source": [
        "LAN=[\"ger\",\"eng\",\"spa\",\"fre\",\"ita\",\"lat\",\"dut\",\"pol\",\"por\",\"rus\"] #On définit la liste des codes de langues centrales devant être requêtées avec le code \"LAN\" dans l'API du Sudoc."
      ]
    },
    {
      "cell_type": "code",
      "execution_count": null,
      "metadata": {
        "id": "8_BKjCh0rMse"
      },
      "outputs": [],
      "source": [
        "def get_langue_sudoc(RCR,langue):\n",
        "  if langue in LAN:\n",
        "   req=rq.get(f\"https://www.sudoc.abes.fr/cbs/sru/?operation=searchRetrieve&version=1.1&recordSchema=unimarc&query=rbc%3D{RCR}%20and%20lan%3D%22{langue}%22\")\n",
        "  else:req=rq.get(f\"https://www.sudoc.abes.fr/cbs/sru/?operation=searchRetrieve&version=1.1&recordSchema=unimarc&query=rbc%3D{RCR}%20and%20lai%3D%22{langue}%22\")\n",
        "  root_sudoc=et.fromstring(req.content)\n",
        "  for child in root_sudoc.findall(\"{http://www.loc.gov/zing/srw/}numberOfRecords\"):\n",
        "    return child.text"
      ]
    },
    {
      "cell_type": "code",
      "execution_count": null,
      "metadata": {
        "id": "31qKSq4H0aC2"
      },
      "outputs": [],
      "source": [
        "get_langue_sudoc(751052115,langue) #On teste la fonction pour la Nordique."
      ]
    },
    {
      "cell_type": "markdown",
      "metadata": {
        "id": "qoPpZIPVxhQY"
      },
      "source": [
        "###Création d'un *dataframe* des résultats pour tous les RCR pour une langue donnée (celle donnée par la réponse à la question \"Quelle est la langue dont vous souhaiteriez obtenir une cartographie des fonds dans le Sudoc ? \")"
      ]
    },
    {
      "cell_type": "code",
      "execution_count": null,
      "metadata": {
        "id": "9q8MUxEM5FAW"
      },
      "outputs": [],
      "source": [
        "df_rcr[\"Notices\"]=df_rcr.apply(lambda row: get_langue_sudoc(row[\"RCR\"],langue), axis=1)\n",
        "df_rcr"
      ]
    },
    {
      "cell_type": "markdown",
      "metadata": {
        "id": "xXkd71i_MFlH"
      },
      "source": [
        "La mise à jour du *dataframe* prend un certain temps (30 à 40 minutes)..."
      ]
    },
    {
      "cell_type": "code",
      "execution_count": null,
      "metadata": {
        "colab": {
          "base_uri": "https://localhost:8080/"
        },
        "id": "fZmqE_jDtdZa",
        "outputId": "ce716f01-33fa-4fbf-e162-6da9622f2fe9"
      },
      "outputs": [
        {
          "output_type": "execute_result",
          "data": {
            "text/plain": [
              "RCR          object\n",
              "LIBELLE      object\n",
              "PPN          object\n",
              "LATITUDE     object\n",
              "LONGITUDE    object\n",
              "Notices      object\n",
              "dtype: object"
            ]
          },
          "metadata": {},
          "execution_count": 14
        }
      ],
      "source": [
        "df_rcr.dtypes #Ce n'est toujours pas propre pour les notices, qui ne sont pas au format numérique."
      ]
    },
    {
      "cell_type": "code",
      "execution_count": null,
      "metadata": {
        "id": "DfCpdrNCtmmS"
      },
      "outputs": [],
      "source": [
        "df_rcr[\"Notices\"]=pd.to_numeric(df_rcr[\"Notices\"]) #On veut que cette colonne contienne des données numériques.\n",
        "df_rcr.dtypes# On vérifie."
      ]
    },
    {
      "cell_type": "code",
      "execution_count": null,
      "metadata": {
        "id": "wUlXo9NpQbo8"
      },
      "outputs": [],
      "source": [
        "df_rcr=df_rcr[df_rcr[\"Notices\"]!=0] #On supprime les lignes des RCR qui n'ont pas de notices dans la langue concernée.\n",
        "df_rcr"
      ]
    },
    {
      "cell_type": "code",
      "execution_count": null,
      "metadata": {
        "id": "rtoqlHPA0mQv"
      },
      "outputs": [],
      "source": [
        "df_rcr=df_rcr.sort_values([\"Notices\"],ascending=False)#On retrie le dataframe pour afficher d'abord les RCR ayant le plus grand nombre de documents.\n",
        "df_rcr"
      ]
    },
    {
      "cell_type": "markdown",
      "source": [
        "###Ajout des données pertinentes concernant chaque RCR repéré (adresse du catalogue, mail)"
      ],
      "metadata": {
        "id": "vadgqlRAcI0z"
      }
    },
    {
      "cell_type": "markdown",
      "source": [
        "#### Définition de la fonction permettant d'obtenir l'adresse du catalogue et le mail pour chaque RCR (à insérer dans les infobulles plus tard)"
      ],
      "metadata": {
        "id": "5IPaCDRydSAM"
      }
    },
    {
      "cell_type": "code",
      "source": [
        "def get_cat_mail(PPN):\n",
        "  req_cat_mail=rq.get(f\"https://www.idref.fr/{PPN}.xml\")#Pour un PPN de RCR donné, on obtient sa notice dans IdRef au format XML.\n",
        "  root_cat_mail=et.fromstring(req_cat_mail.content)\n",
        "  cat_elt=root_cat_mail.find(\".//datafield[@tag='270']//subfield[@code='a']\") #On extrait le contenu de la zone avec l'adresse du catalogue du RCR.\n",
        "  mail_elt=root_cat_mail.find(\".//datafield[@tag='220']//subfield[@code='d']\") #On extrait le contenu de la zone renseignant l'adresse mail de contact associée au RCR.\n",
        "  if cat_elt is not None:\n",
        "    cat=cat_elt.text\n",
        "  else:\n",
        "    cat=None\n",
        "  if mail_elt is not None:\n",
        "    mail=mail_elt.text\n",
        "  else:\n",
        "    mail=None\n",
        "\n",
        "  if cat is not None and mail is not None: #La fonction retourne l'adresse du catalogue et l'adresse mail associées à chaque PPN de RCR.\n",
        "    return cat, mail\n",
        "  elif cat is None:\n",
        "    return \"Adresse catalogue manquante\", mail\n",
        "  else:\n",
        "    return cat, \"Adresse mail manquante\""
      ],
      "metadata": {
        "id": "GAyznamOdPq5"
      },
      "execution_count": null,
      "outputs": []
    },
    {
      "cell_type": "code",
      "source": [
        "get_cat_mail(\"050960164\") #On teste pour la Nordique."
      ],
      "metadata": {
        "id": "6BP2D3-Ht13i"
      },
      "execution_count": null,
      "outputs": []
    },
    {
      "cell_type": "code",
      "source": [
        "df_rcr[[\"Adresse catalogue\",\"Adresse mail\"]]=df_rcr[\"PPN\"].apply(lambda x:pd.Series(get_cat_mail(x))) #On rajoute deux colonnes au dataframe précédemment créé, l'une avec l'adresse du catalogue du RCR, l'autre avec son adresse mail de contact.\n",
        "df_rcr"
      ],
      "metadata": {
        "id": "6_7Kvt8cym9i"
      },
      "execution_count": null,
      "outputs": []
    },
    {
      "cell_type": "markdown",
      "metadata": {
        "id": "03fgT8j_1iEA"
      },
      "source": [
        "##Représentations cartographiques et diagrammes"
      ]
    },
    {
      "cell_type": "markdown",
      "metadata": {
        "id": "ic7fGeaNufVK"
      },
      "source": [
        "###Création du *geodataframe* et carte des RCR qui ont des notices dans la langue concernée"
      ]
    },
    {
      "cell_type": "markdown",
      "metadata": {
        "id": "LHZJGQ51uuK_"
      },
      "source": [
        "####Installation et importation des paquets nécessaires à la cartographie"
      ]
    },
    {
      "cell_type": "code",
      "execution_count": null,
      "metadata": {
        "id": "jOJXIhr7JtW4"
      },
      "outputs": [],
      "source": [
        "pip install geopandas"
      ]
    },
    {
      "cell_type": "code",
      "source": [
        "pip install jenkspy #Installation de la bibliothèque permettant des regroupements naturels entre bibliothèques par nombre de notices grâce à l'agorithme de Jenks."
      ],
      "metadata": {
        "id": "EF9q56TOlner"
      },
      "execution_count": null,
      "outputs": []
    },
    {
      "cell_type": "code",
      "execution_count": null,
      "metadata": {
        "id": "jpsg13-MxiJD"
      },
      "outputs": [],
      "source": [
        "import geopandas as gpd\n",
        "from shapely.geometry import Point\n",
        "from pyproj import CRS\n",
        "import folium\n",
        "from folium.plugins import MarkerCluster #Import du paquet permettant d'agréger géographiquement des groupes de bibliothèques dans la visualisation zoomable permise par Folium.\n",
        "from jenkspy import jenks_breaks #Import du paquet permettant d'utiliser les regroupements naturels entre bibliothèques.\n",
        "import matplotlib.pyplot as plt\n",
        "from datetime import datetime"
      ]
    },
    {
      "cell_type": "markdown",
      "metadata": {
        "id": "WZoxZDOMG92W"
      },
      "source": [
        "####Préparation des données du dataframe précédent et création du geodataframe"
      ]
    },
    {
      "cell_type": "code",
      "execution_count": null,
      "metadata": {
        "id": "q6h5emlGaX8W"
      },
      "outputs": [],
      "source": [
        "df_rcr[\"LATITUDE\"].replace(\"null\",None,inplace=True) #On doit s'occuper des RCR qui n'ont pas de données de géolocalisation.\n",
        "df_rcr[\"LONGITUDE\"].replace(\"null\",None,inplace=True)"
      ]
    },
    {
      "cell_type": "code",
      "execution_count": null,
      "metadata": {
        "id": "GxakiLqPaooW"
      },
      "outputs": [],
      "source": [
        "def create_point(row):\n",
        "    latitude=float(row[\"LATITUDE\"]) if row[\"LATITUDE\"] is not None else None\n",
        "    longitude=float(row[\"LONGITUDE\"]) if row[\"LONGITUDE\"] is not None else None\n",
        "    return Point(longitude,latitude) if latitude and longitude else None"
      ]
    },
    {
      "cell_type": "code",
      "execution_count": null,
      "metadata": {
        "id": "O9FUztYua132"
      },
      "outputs": [],
      "source": [
        "df_rcr[\"geometry\"]=df_rcr.apply(create_point,axis=1)"
      ]
    },
    {
      "cell_type": "code",
      "execution_count": null,
      "metadata": {
        "id": "rHX7i01ObBS1"
      },
      "outputs": [],
      "source": [
        "gdf=gpd.GeoDataFrame(df_rcr,geometry=\"geometry\")"
      ]
    },
    {
      "cell_type": "code",
      "execution_count": null,
      "metadata": {
        "id": "ovNIEVmlbHFl"
      },
      "outputs": [],
      "source": [
        "gdf"
      ]
    },
    {
      "cell_type": "code",
      "execution_count": null,
      "metadata": {
        "id": "qW024Fb195Qs"
      },
      "outputs": [],
      "source": [
        "print(gdf.crs)#Le CRS n'est pas défini pour le geodataframe !"
      ]
    },
    {
      "cell_type": "code",
      "execution_count": null,
      "metadata": {
        "colab": {
          "base_uri": "https://localhost:8080/",
          "height": 791
        },
        "id": "eDLoSgXFEOuG",
        "outputId": "95fc07f7-98b6-48e5-8965-abaa462ab700"
      },
      "outputs": [
        {
          "output_type": "execute_result",
          "data": {
            "text/plain": [
              "            RCR                           LIBELLE        PPN    LATITUDE  \\\n",
              "684   674821001                    STRASBOURG-BNU  050955772  48.5871803   \n",
              "1296  751052342                 PARIS-ENS-Ulm LSH  103722513   48.841819   \n",
              "1062  751052105        PARIS-BIS, Fonds général  050960067  48.8492618   \n",
              "1312  991262301     ATHENES-Ecole Fr.Archéologie  124123198   37.982287   \n",
              "2873  930012301    AUBERVILLIERS-Campus Condorcet  234600004     48.9082   \n",
              "...         ...                               ...        ...         ...   \n",
              "530   060882202          NICE-Bibl.Mathématiques  050939831  43.7154693   \n",
              "1206  881602102          NANCY-UL-BU-INSPE-Epinal  200304593  48.1839763   \n",
              "524   061522202      NICE-Univ.-Géosciences Azur  050940295   43.611906   \n",
              "519   441099901  NANTES-Bibliotheque electronique  096247010        None   \n",
              "2951  674825260    STRASBOURG-INSP Centre de doc.  197398456   48.581558   \n",
              "\n",
              "              LONGITUDE  Notices  \\\n",
              "684           7.7551573    11590   \n",
              "1296           2.343944    10777   \n",
              "1062          2.3433311     9822   \n",
              "1312          23.738117     5621   \n",
              "2873  2.364710000000059     5405   \n",
              "...                 ...      ...   \n",
              "530           7.2656745        1   \n",
              "1206  6.457385199999976        1   \n",
              "524            7.053223        1   \n",
              "519                None        1   \n",
              "2951           7.737728        1   \n",
              "\n",
              "                                      Adresse catalogue  \\\n",
              "684             http://biblio.bnu.fr/opac/.do?BID=#Ppn#   \n",
              "1296  http://catalogue.bib.ens.psl.eu/search*frf/o?s...   \n",
              "1062  http://catalogue-millennium.bis-sorbonne.fr/se...   \n",
              "1312                        Adresse catalogue manquante   \n",
              "2873  https://campus-condorcet.primo.exlibrisgroup.c...   \n",
              "...                                                 ...   \n",
              "530   https://catalogue.bu.univ-cotedazur.fr/primo-e...   \n",
              "1206   https://ulysse.univ-lorraine.fr/discovery/sea...   \n",
              "524   https://catalogue.bu.univ-cotedazur.fr/primo-e...   \n",
              "519   http://nantilus.univ-nantes.fr/vufind/Record/P...   \n",
              "2951  https://documentation.insp.gouv.fr/insp/search...   \n",
              "\n",
              "                                 Adresse mail                   geometry  \n",
              "684                                peb@bnu.fr   POINT (7.75516 48.58718)  \n",
              "1296                   Adresse mail manquante   POINT (2.34394 48.84182)  \n",
              "1062                     info@bis-sorbonne.fr   POINT (2.34333 48.84926)  \n",
              "1312                      bibliotheque@efa.gr  POINT (23.73812 37.98229)  \n",
              "2873  services.humatheque@campus-condorcet.fr   POINT (2.36471 48.90820)  \n",
              "...                                       ...                        ...  \n",
              "530                          bibmath@unice.fr   POINT (7.26567 43.71547)  \n",
              "1206                   Adresse mail manquante   POINT (6.45739 48.18398)  \n",
              "524                             biblio@oca.eu   POINT (7.05322 43.61191)  \n",
              "519                    Adresse mail manquante                       None  \n",
              "2951               documentation@insp.gouv.fr   POINT (7.73773 48.58156)  \n",
              "\n",
              "[747 rows x 9 columns]"
            ],
            "text/html": [
              "\n",
              "  <div id=\"df-e323ae67-7962-4b85-80d9-16d187f232da\" class=\"colab-df-container\">\n",
              "    <div>\n",
              "<style scoped>\n",
              "    .dataframe tbody tr th:only-of-type {\n",
              "        vertical-align: middle;\n",
              "    }\n",
              "\n",
              "    .dataframe tbody tr th {\n",
              "        vertical-align: top;\n",
              "    }\n",
              "\n",
              "    .dataframe thead th {\n",
              "        text-align: right;\n",
              "    }\n",
              "</style>\n",
              "<table border=\"1\" class=\"dataframe\">\n",
              "  <thead>\n",
              "    <tr style=\"text-align: right;\">\n",
              "      <th></th>\n",
              "      <th>RCR</th>\n",
              "      <th>LIBELLE</th>\n",
              "      <th>PPN</th>\n",
              "      <th>LATITUDE</th>\n",
              "      <th>LONGITUDE</th>\n",
              "      <th>Notices</th>\n",
              "      <th>Adresse catalogue</th>\n",
              "      <th>Adresse mail</th>\n",
              "      <th>geometry</th>\n",
              "    </tr>\n",
              "  </thead>\n",
              "  <tbody>\n",
              "    <tr>\n",
              "      <th>684</th>\n",
              "      <td>674821001</td>\n",
              "      <td>STRASBOURG-BNU</td>\n",
              "      <td>050955772</td>\n",
              "      <td>48.5871803</td>\n",
              "      <td>7.7551573</td>\n",
              "      <td>11590</td>\n",
              "      <td>http://biblio.bnu.fr/opac/.do?BID=#Ppn#</td>\n",
              "      <td>peb@bnu.fr</td>\n",
              "      <td>POINT (7.75516 48.58718)</td>\n",
              "    </tr>\n",
              "    <tr>\n",
              "      <th>1296</th>\n",
              "      <td>751052342</td>\n",
              "      <td>PARIS-ENS-Ulm LSH</td>\n",
              "      <td>103722513</td>\n",
              "      <td>48.841819</td>\n",
              "      <td>2.343944</td>\n",
              "      <td>10777</td>\n",
              "      <td>http://catalogue.bib.ens.psl.eu/search*frf/o?s...</td>\n",
              "      <td>Adresse mail manquante</td>\n",
              "      <td>POINT (2.34394 48.84182)</td>\n",
              "    </tr>\n",
              "    <tr>\n",
              "      <th>1062</th>\n",
              "      <td>751052105</td>\n",
              "      <td>PARIS-BIS, Fonds général</td>\n",
              "      <td>050960067</td>\n",
              "      <td>48.8492618</td>\n",
              "      <td>2.3433311</td>\n",
              "      <td>9822</td>\n",
              "      <td>http://catalogue-millennium.bis-sorbonne.fr/se...</td>\n",
              "      <td>info@bis-sorbonne.fr</td>\n",
              "      <td>POINT (2.34333 48.84926)</td>\n",
              "    </tr>\n",
              "    <tr>\n",
              "      <th>1312</th>\n",
              "      <td>991262301</td>\n",
              "      <td>ATHENES-Ecole Fr.Archéologie</td>\n",
              "      <td>124123198</td>\n",
              "      <td>37.982287</td>\n",
              "      <td>23.738117</td>\n",
              "      <td>5621</td>\n",
              "      <td>Adresse catalogue manquante</td>\n",
              "      <td>bibliotheque@efa.gr</td>\n",
              "      <td>POINT (23.73812 37.98229)</td>\n",
              "    </tr>\n",
              "    <tr>\n",
              "      <th>2873</th>\n",
              "      <td>930012301</td>\n",
              "      <td>AUBERVILLIERS-Campus Condorcet</td>\n",
              "      <td>234600004</td>\n",
              "      <td>48.9082</td>\n",
              "      <td>2.364710000000059</td>\n",
              "      <td>5405</td>\n",
              "      <td>https://campus-condorcet.primo.exlibrisgroup.c...</td>\n",
              "      <td>services.humatheque@campus-condorcet.fr</td>\n",
              "      <td>POINT (2.36471 48.90820)</td>\n",
              "    </tr>\n",
              "    <tr>\n",
              "      <th>...</th>\n",
              "      <td>...</td>\n",
              "      <td>...</td>\n",
              "      <td>...</td>\n",
              "      <td>...</td>\n",
              "      <td>...</td>\n",
              "      <td>...</td>\n",
              "      <td>...</td>\n",
              "      <td>...</td>\n",
              "      <td>...</td>\n",
              "    </tr>\n",
              "    <tr>\n",
              "      <th>530</th>\n",
              "      <td>060882202</td>\n",
              "      <td>NICE-Bibl.Mathématiques</td>\n",
              "      <td>050939831</td>\n",
              "      <td>43.7154693</td>\n",
              "      <td>7.2656745</td>\n",
              "      <td>1</td>\n",
              "      <td>https://catalogue.bu.univ-cotedazur.fr/primo-e...</td>\n",
              "      <td>bibmath@unice.fr</td>\n",
              "      <td>POINT (7.26567 43.71547)</td>\n",
              "    </tr>\n",
              "    <tr>\n",
              "      <th>1206</th>\n",
              "      <td>881602102</td>\n",
              "      <td>NANCY-UL-BU-INSPE-Epinal</td>\n",
              "      <td>200304593</td>\n",
              "      <td>48.1839763</td>\n",
              "      <td>6.457385199999976</td>\n",
              "      <td>1</td>\n",
              "      <td>https://ulysse.univ-lorraine.fr/discovery/sea...</td>\n",
              "      <td>Adresse mail manquante</td>\n",
              "      <td>POINT (6.45739 48.18398)</td>\n",
              "    </tr>\n",
              "    <tr>\n",
              "      <th>524</th>\n",
              "      <td>061522202</td>\n",
              "      <td>NICE-Univ.-Géosciences Azur</td>\n",
              "      <td>050940295</td>\n",
              "      <td>43.611906</td>\n",
              "      <td>7.053223</td>\n",
              "      <td>1</td>\n",
              "      <td>https://catalogue.bu.univ-cotedazur.fr/primo-e...</td>\n",
              "      <td>biblio@oca.eu</td>\n",
              "      <td>POINT (7.05322 43.61191)</td>\n",
              "    </tr>\n",
              "    <tr>\n",
              "      <th>519</th>\n",
              "      <td>441099901</td>\n",
              "      <td>NANTES-Bibliotheque electronique</td>\n",
              "      <td>096247010</td>\n",
              "      <td>None</td>\n",
              "      <td>None</td>\n",
              "      <td>1</td>\n",
              "      <td>http://nantilus.univ-nantes.fr/vufind/Record/P...</td>\n",
              "      <td>Adresse mail manquante</td>\n",
              "      <td>None</td>\n",
              "    </tr>\n",
              "    <tr>\n",
              "      <th>2951</th>\n",
              "      <td>674825260</td>\n",
              "      <td>STRASBOURG-INSP Centre de doc.</td>\n",
              "      <td>197398456</td>\n",
              "      <td>48.581558</td>\n",
              "      <td>7.737728</td>\n",
              "      <td>1</td>\n",
              "      <td>https://documentation.insp.gouv.fr/insp/search...</td>\n",
              "      <td>documentation@insp.gouv.fr</td>\n",
              "      <td>POINT (7.73773 48.58156)</td>\n",
              "    </tr>\n",
              "  </tbody>\n",
              "</table>\n",
              "<p>747 rows × 9 columns</p>\n",
              "</div>\n",
              "    <div class=\"colab-df-buttons\">\n",
              "\n",
              "  <div class=\"colab-df-container\">\n",
              "    <button class=\"colab-df-convert\" onclick=\"convertToInteractive('df-e323ae67-7962-4b85-80d9-16d187f232da')\"\n",
              "            title=\"Convert this dataframe to an interactive table.\"\n",
              "            style=\"display:none;\">\n",
              "\n",
              "  <svg xmlns=\"http://www.w3.org/2000/svg\" height=\"24px\" viewBox=\"0 -960 960 960\">\n",
              "    <path d=\"M120-120v-720h720v720H120Zm60-500h600v-160H180v160Zm220 220h160v-160H400v160Zm0 220h160v-160H400v160ZM180-400h160v-160H180v160Zm440 0h160v-160H620v160ZM180-180h160v-160H180v160Zm440 0h160v-160H620v160Z\"/>\n",
              "  </svg>\n",
              "    </button>\n",
              "\n",
              "  <style>\n",
              "    .colab-df-container {\n",
              "      display:flex;\n",
              "      gap: 12px;\n",
              "    }\n",
              "\n",
              "    .colab-df-convert {\n",
              "      background-color: #E8F0FE;\n",
              "      border: none;\n",
              "      border-radius: 50%;\n",
              "      cursor: pointer;\n",
              "      display: none;\n",
              "      fill: #1967D2;\n",
              "      height: 32px;\n",
              "      padding: 0 0 0 0;\n",
              "      width: 32px;\n",
              "    }\n",
              "\n",
              "    .colab-df-convert:hover {\n",
              "      background-color: #E2EBFA;\n",
              "      box-shadow: 0px 1px 2px rgba(60, 64, 67, 0.3), 0px 1px 3px 1px rgba(60, 64, 67, 0.15);\n",
              "      fill: #174EA6;\n",
              "    }\n",
              "\n",
              "    .colab-df-buttons div {\n",
              "      margin-bottom: 4px;\n",
              "    }\n",
              "\n",
              "    [theme=dark] .colab-df-convert {\n",
              "      background-color: #3B4455;\n",
              "      fill: #D2E3FC;\n",
              "    }\n",
              "\n",
              "    [theme=dark] .colab-df-convert:hover {\n",
              "      background-color: #434B5C;\n",
              "      box-shadow: 0px 1px 3px 1px rgba(0, 0, 0, 0.15);\n",
              "      filter: drop-shadow(0px 1px 2px rgba(0, 0, 0, 0.3));\n",
              "      fill: #FFFFFF;\n",
              "    }\n",
              "  </style>\n",
              "\n",
              "    <script>\n",
              "      const buttonEl =\n",
              "        document.querySelector('#df-e323ae67-7962-4b85-80d9-16d187f232da button.colab-df-convert');\n",
              "      buttonEl.style.display =\n",
              "        google.colab.kernel.accessAllowed ? 'block' : 'none';\n",
              "\n",
              "      async function convertToInteractive(key) {\n",
              "        const element = document.querySelector('#df-e323ae67-7962-4b85-80d9-16d187f232da');\n",
              "        const dataTable =\n",
              "          await google.colab.kernel.invokeFunction('convertToInteractive',\n",
              "                                                    [key], {});\n",
              "        if (!dataTable) return;\n",
              "\n",
              "        const docLinkHtml = 'Like what you see? Visit the ' +\n",
              "          '<a target=\"_blank\" href=https://colab.research.google.com/notebooks/data_table.ipynb>data table notebook</a>'\n",
              "          + ' to learn more about interactive tables.';\n",
              "        element.innerHTML = '';\n",
              "        dataTable['output_type'] = 'display_data';\n",
              "        await google.colab.output.renderOutput(dataTable, element);\n",
              "        const docLink = document.createElement('div');\n",
              "        docLink.innerHTML = docLinkHtml;\n",
              "        element.appendChild(docLink);\n",
              "      }\n",
              "    </script>\n",
              "  </div>\n",
              "\n",
              "\n",
              "<div id=\"df-5533439f-a6e1-4322-9f07-c80b97f9355e\">\n",
              "  <button class=\"colab-df-quickchart\" onclick=\"quickchart('df-5533439f-a6e1-4322-9f07-c80b97f9355e')\"\n",
              "            title=\"Suggest charts\"\n",
              "            style=\"display:none;\">\n",
              "\n",
              "<svg xmlns=\"http://www.w3.org/2000/svg\" height=\"24px\"viewBox=\"0 0 24 24\"\n",
              "     width=\"24px\">\n",
              "    <g>\n",
              "        <path d=\"M19 3H5c-1.1 0-2 .9-2 2v14c0 1.1.9 2 2 2h14c1.1 0 2-.9 2-2V5c0-1.1-.9-2-2-2zM9 17H7v-7h2v7zm4 0h-2V7h2v10zm4 0h-2v-4h2v4z\"/>\n",
              "    </g>\n",
              "</svg>\n",
              "  </button>\n",
              "\n",
              "<style>\n",
              "  .colab-df-quickchart {\n",
              "      --bg-color: #E8F0FE;\n",
              "      --fill-color: #1967D2;\n",
              "      --hover-bg-color: #E2EBFA;\n",
              "      --hover-fill-color: #174EA6;\n",
              "      --disabled-fill-color: #AAA;\n",
              "      --disabled-bg-color: #DDD;\n",
              "  }\n",
              "\n",
              "  [theme=dark] .colab-df-quickchart {\n",
              "      --bg-color: #3B4455;\n",
              "      --fill-color: #D2E3FC;\n",
              "      --hover-bg-color: #434B5C;\n",
              "      --hover-fill-color: #FFFFFF;\n",
              "      --disabled-bg-color: #3B4455;\n",
              "      --disabled-fill-color: #666;\n",
              "  }\n",
              "\n",
              "  .colab-df-quickchart {\n",
              "    background-color: var(--bg-color);\n",
              "    border: none;\n",
              "    border-radius: 50%;\n",
              "    cursor: pointer;\n",
              "    display: none;\n",
              "    fill: var(--fill-color);\n",
              "    height: 32px;\n",
              "    padding: 0;\n",
              "    width: 32px;\n",
              "  }\n",
              "\n",
              "  .colab-df-quickchart:hover {\n",
              "    background-color: var(--hover-bg-color);\n",
              "    box-shadow: 0 1px 2px rgba(60, 64, 67, 0.3), 0 1px 3px 1px rgba(60, 64, 67, 0.15);\n",
              "    fill: var(--button-hover-fill-color);\n",
              "  }\n",
              "\n",
              "  .colab-df-quickchart-complete:disabled,\n",
              "  .colab-df-quickchart-complete:disabled:hover {\n",
              "    background-color: var(--disabled-bg-color);\n",
              "    fill: var(--disabled-fill-color);\n",
              "    box-shadow: none;\n",
              "  }\n",
              "\n",
              "  .colab-df-spinner {\n",
              "    border: 2px solid var(--fill-color);\n",
              "    border-color: transparent;\n",
              "    border-bottom-color: var(--fill-color);\n",
              "    animation:\n",
              "      spin 1s steps(1) infinite;\n",
              "  }\n",
              "\n",
              "  @keyframes spin {\n",
              "    0% {\n",
              "      border-color: transparent;\n",
              "      border-bottom-color: var(--fill-color);\n",
              "      border-left-color: var(--fill-color);\n",
              "    }\n",
              "    20% {\n",
              "      border-color: transparent;\n",
              "      border-left-color: var(--fill-color);\n",
              "      border-top-color: var(--fill-color);\n",
              "    }\n",
              "    30% {\n",
              "      border-color: transparent;\n",
              "      border-left-color: var(--fill-color);\n",
              "      border-top-color: var(--fill-color);\n",
              "      border-right-color: var(--fill-color);\n",
              "    }\n",
              "    40% {\n",
              "      border-color: transparent;\n",
              "      border-right-color: var(--fill-color);\n",
              "      border-top-color: var(--fill-color);\n",
              "    }\n",
              "    60% {\n",
              "      border-color: transparent;\n",
              "      border-right-color: var(--fill-color);\n",
              "    }\n",
              "    80% {\n",
              "      border-color: transparent;\n",
              "      border-right-color: var(--fill-color);\n",
              "      border-bottom-color: var(--fill-color);\n",
              "    }\n",
              "    90% {\n",
              "      border-color: transparent;\n",
              "      border-bottom-color: var(--fill-color);\n",
              "    }\n",
              "  }\n",
              "</style>\n",
              "\n",
              "  <script>\n",
              "    async function quickchart(key) {\n",
              "      const quickchartButtonEl =\n",
              "        document.querySelector('#' + key + ' button');\n",
              "      quickchartButtonEl.disabled = true;  // To prevent multiple clicks.\n",
              "      quickchartButtonEl.classList.add('colab-df-spinner');\n",
              "      try {\n",
              "        const charts = await google.colab.kernel.invokeFunction(\n",
              "            'suggestCharts', [key], {});\n",
              "      } catch (error) {\n",
              "        console.error('Error during call to suggestCharts:', error);\n",
              "      }\n",
              "      quickchartButtonEl.classList.remove('colab-df-spinner');\n",
              "      quickchartButtonEl.classList.add('colab-df-quickchart-complete');\n",
              "    }\n",
              "    (() => {\n",
              "      let quickchartButtonEl =\n",
              "        document.querySelector('#df-5533439f-a6e1-4322-9f07-c80b97f9355e button');\n",
              "      quickchartButtonEl.style.display =\n",
              "        google.colab.kernel.accessAllowed ? 'block' : 'none';\n",
              "    })();\n",
              "  </script>\n",
              "</div>\n",
              "    </div>\n",
              "  </div>\n"
            ],
            "application/vnd.google.colaboratory.intrinsic+json": {
              "type": "dataframe",
              "variable_name": "gdf",
              "summary": "{\n  \"name\": \"gdf\",\n  \"rows\": 747,\n  \"fields\": [\n    {\n      \"column\": \"RCR\",\n      \"properties\": {\n        \"dtype\": \"string\",\n        \"samples\": [\n          \"861942212\",\n          \"060882103\",\n          \"674822119\"\n        ],\n        \"num_unique_values\": 747,\n        \"semantic_type\": \"\",\n        \"description\": \"\"\n      }\n    },\n    {\n      \"column\": \"LIBELLE\",\n      \"properties\": {\n        \"dtype\": \"string\",\n        \"samples\": [\n          \"POITIERS-CESCM\",\n          \"NICE-BU Droit Science politique\",\n          \"STRASBOURG-Histoire\"\n        ],\n        \"num_unique_values\": 747,\n        \"semantic_type\": \"\",\n        \"description\": \"\"\n      }\n    },\n    {\n      \"column\": \"PPN\",\n      \"properties\": {\n        \"dtype\": \"string\",\n        \"samples\": [\n          \"050965778\",\n          \"050939807\",\n          \"050955926\"\n        ],\n        \"num_unique_values\": 747,\n        \"semantic_type\": \"\",\n        \"description\": \"\"\n      }\n    },\n    {\n      \"column\": \"LATITUDE\",\n      \"properties\": {\n        \"dtype\": \"string\",\n        \"samples\": [\n          \"48.54081\",\n          \"47.47964944\",\n          \"45.760083\"\n        ],\n        \"num_unique_values\": 571,\n        \"semantic_type\": \"\",\n        \"description\": \"\"\n      }\n    },\n    {\n      \"column\": \"LONGITUDE\",\n      \"properties\": {\n        \"dtype\": \"string\",\n        \"samples\": [\n          \"2.12426\",\n          \"-0.60401501\",\n          \"3.114098\"\n        ],\n        \"num_unique_values\": 571,\n        \"semantic_type\": \"\",\n        \"description\": \"\"\n      }\n    },\n    {\n      \"column\": \"Notices\",\n      \"properties\": {\n        \"dtype\": \"number\",\n        \"std\": 1027,\n        \"min\": 1,\n        \"max\": 11590,\n        \"samples\": [\n          14,\n          52,\n          87\n        ],\n        \"num_unique_values\": 262,\n        \"semantic_type\": \"\",\n        \"description\": \"\"\n      }\n    },\n    {\n      \"column\": \"Adresse catalogue\",\n      \"properties\": {\n        \"dtype\": \"category\",\n        \"samples\": [\n          \"https://cataloguebib.enssib.fr/ppn/#Ppn#\",\n          \"https://catalog.locirdoc.fr/ppn/#Ppn#\",\n          \"https://catalogue.scdi-montpellier.fr/discovery/search?query=lds05,contains,#Ppn#&sortby=rank&vid=33MON_INST:33UPVM_VU1&lang=fr_FR\"\n        ],\n        \"num_unique_values\": 137,\n        \"semantic_type\": \"\",\n        \"description\": \"\"\n      }\n    },\n    {\n      \"column\": \"Adresse mail\",\n      \"properties\": {\n        \"dtype\": \"string\",\n        \"samples\": [\n          \"docelec-contact@univ-lorraine.fr\",\n          \"bu-lettres@univ-cotedazur.fr\",\n          \"bu-geos@sorbonne-universite.fr\"\n        ],\n        \"num_unique_values\": 454,\n        \"semantic_type\": \"\",\n        \"description\": \"\"\n      }\n    },\n    {\n      \"column\": \"geometry\",\n      \"properties\": {\n        \"dtype\": \"geometry\",\n        \"samples\": [\n          \"POINT (2.12426 48.54081)\",\n          \"POINT (-0.60401501 47.47964944)\",\n          \"POINT (3.114098 45.760083)\"\n        ],\n        \"num_unique_values\": 571,\n        \"semantic_type\": \"\",\n        \"description\": \"\"\n      }\n    }\n  ]\n}"
            }
          },
          "metadata": {},
          "execution_count": 83
        }
      ],
      "source": [
        "gdf.set_crs(epsg=4326,inplace=True) #On définit bien la colonne \"geometry\" avec le CRS classique \"longitude/latitude\"."
      ]
    },
    {
      "cell_type": "markdown",
      "source": [
        "####Export en csv historicisé"
      ],
      "metadata": {
        "id": "kKDVZZV2eSpZ"
      }
    },
    {
      "cell_type": "code",
      "source": [
        "aujourdhui=datetime.now().strftime(\"%Y%m%d\")\n",
        "nom_fichier=f\"{aujourdhui}_cabestan_export_{langue}.csv\"\n",
        "gdf.to_csv(nom_fichier,index=False)"
      ],
      "metadata": {
        "id": "iRknP6FkdQ0k"
      },
      "execution_count": null,
      "outputs": []
    },
    {
      "cell_type": "markdown",
      "metadata": {
        "id": "e3r6i9HpVorX"
      },
      "source": [
        "###Carte zoomable pondérée en fonction du nombre de notices avec Folium"
      ]
    },
    {
      "cell_type": "markdown",
      "metadata": {
        "id": "67WYZMaWj90M"
      },
      "source": [
        "Visualisation cartographique avec des données quantitatives concernant le nombre de notices\n"
      ]
    },
    {
      "cell_type": "code",
      "source": [
        "carte_pond=folium.Map(location=[46.603354, 1.888334],zoom_start=6)\n",
        "marker_cluster=MarkerCluster().add_to(carte_pond)\n",
        "notices_val=gdf[\"Notices\"].values\n",
        "breaks=jenks_breaks(notices_val,n_classes=3) #Définition de trois classes selon les seuils naturels de l'algorithme de Jenks.\n",
        "\n",
        "def couleur(notices): #Définition de la fonction définissant les couleurs associées à ces 3 classes (vert : RCR ayant le nombre de notices le plus bas, orange : classe intermédiaire, rouge : RCR ayant le nombre de notices le plus élevé).\n",
        "  if notices<=breaks[1]:\n",
        "    return \"green\"\n",
        "  elif breaks[1]<notices<=breaks[2]:\n",
        "    return \"orange\"\n",
        "  else:\n",
        "    return \"red\"\n",
        "\n",
        "for idx,row in gdf.iterrows():\n",
        "    if row.geometry: #Création des infobulles avec : 1. le nom du RCR, 2. son nombre de notices, 3. l'adresse de son catalogue, 4. l'adresse mail de contact.\n",
        "      popup_content=f\"<b>{row['LIBELLE']}</b><br>\" \\\n",
        "                    f\"Notices:{row['Notices']}<br>\" \\\n",
        "                    f\"Adresse catalogue: <a href='{row['Adresse catalogue']}' target='_blank'>{row['Adresse catalogue']}</a><br>\" \\\n",
        "                    f\"Adresse mail: <a href='mailto:{row['Adresse mail']}'>{row['Adresse mail']}</a>\"\n",
        "      folium.Marker(\n",
        "          location=[row.geometry.y, row.geometry.x],\n",
        "          popup=folium.Popup(popup_content, max_width=300),\n",
        "          tooltip=row[\"LIBELLE\"],\n",
        "          icon=folium.Icon(color=couleur(row[\"Notices\"]))\n",
        "      ).add_to(marker_cluster) #Création de la carte zoomable.\n",
        "carte_pond\n"
      ],
      "metadata": {
        "id": "DOjr_KLvVbJ6"
      },
      "execution_count": null,
      "outputs": []
    },
    {
      "cell_type": "code",
      "source": [
        "carte_pond.save(f\"{aujourdhui}_cabestan_carte_ponderee_{langue}.html\")"
      ],
      "metadata": {
        "id": "Q25VMsGSvHVJ"
      },
      "execution_count": null,
      "outputs": []
    },
    {
      "cell_type": "markdown",
      "metadata": {
        "id": "3RbojpFo1q3L"
      },
      "source": [
        "###Diagramme en barres des 25 premières bibliothèques posssédant des fonds dans la langue choisie en termes de nombre de notices"
      ]
    },
    {
      "cell_type": "code",
      "source": [
        "df_top_25=df_rcr.sort_values(\"Notices\",ascending=False).head(25) #On veut le top 25 du Sudoc en termes de nombres de notices.\n",
        "df_top_25=df_top_25.iloc[::-1] #On veut une présentation à l'horizontale avec les RCR ayant le plus grand nombre de notices en haut.\n",
        "date_aujourdhui=datetime.today().strftime(\"%d-%m-%Y\") #On historicise le diagramme en barres.\n",
        "plt.figure(figsize=(10, 8))\n",
        "bars=plt.barh(df_top_25[\"LIBELLE\"], df_top_25[\"Notices\"]) #On met le nom des RCR plutôt que leur numéro.\n",
        "for bar in bars:\n",
        "    plt.text(bar.get_width(),bar.get_y()+bar.get_height()/2,\n",
        "             f\"{bar.get_width():,.0f}\",\n",
        "             va=\"center\",ha=\"left\")\n",
        "plt.xlabel(\"Nombre de notices\")\n",
        "plt.ylabel(\"Bibliothèques\")\n",
        "plt.title(f\"Top 25 des RCR par nombre de notices de documents en {langue_fr} le {date_aujourdhui}\")\n",
        "plt.tight_layout()\n",
        "plt.show()"
      ],
      "metadata": {
        "id": "qdCXzjsMYUHw"
      },
      "execution_count": null,
      "outputs": []
    },
    {
      "cell_type": "code",
      "source": [
        "plt.clf()\n",
        "plt.savefig(f\"{aujourdhui}_cabestan_top_25_{langue}.jpg\",dpi=300,bbox_inches=\"tight\")"
      ],
      "metadata": {
        "id": "KygBWd58fVuC"
      },
      "execution_count": null,
      "outputs": []
    }
  ],
  "metadata": {
    "colab": {
      "provenance": [],
      "include_colab_link": true
    },
    "kernelspec": {
      "display_name": "Python 3",
      "name": "python3"
    },
    "language_info": {
      "name": "python"
    }
  },
  "nbformat": 4,
  "nbformat_minor": 0
}