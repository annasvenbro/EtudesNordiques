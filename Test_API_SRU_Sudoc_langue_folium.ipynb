{
  "cells": [
    {
      "cell_type": "markdown",
      "metadata": {
        "id": "view-in-github",
        "colab_type": "text"
      },
      "source": [
        "<a href=\"https://colab.research.google.com/github/annasvenbro/etudesnordiques/blob/main/Test_API_SRU_Sudoc_langue_folium.ipynb\" target=\"_parent\"><img src=\"https://colab.research.google.com/assets/colab-badge.svg\" alt=\"Open In Colab\"/></a>"
      ]
    },
    {
      "cell_type": "markdown",
      "metadata": {
        "id": "6CM937WrYmyQ"
      },
      "source": [
        "#Test de l'API SRU du Sudoc pour la présence des fonds en langues étrangères dans les RCR du réseau : version utilisant Folium"
      ]
    },
    {
      "cell_type": "markdown",
      "metadata": {
        "id": "uH5HCzEtZfhg"
      },
      "source": [
        "##Import des paquets nécessaires"
      ]
    },
    {
      "cell_type": "code",
      "execution_count": null,
      "metadata": {
        "id": "PDw118LMYmOB"
      },
      "outputs": [],
      "source": [
        "import requests as rq\n",
        "import xml.etree.ElementTree as et\n",
        "import pandas as pd\n",
        "import numpy as np"
      ]
    },
    {
      "cell_type": "markdown",
      "metadata": {
        "id": "Er8KIGVYvGJ9"
      },
      "source": [
        "## Récupérer les données RCR du Sudoc"
      ]
    },
    {
      "cell_type": "markdown",
      "metadata": {
        "id": "a_MSwfP5-aHj"
      },
      "source": [
        "###Requêter le jeu de données en *open data* d'IdRef pour la liste des RCR via le *webservice* \"listrcr\" de l'ABES (jeu de données complet *a priori*, avec 2957 entrées)."
      ]
    },
    {
      "cell_type": "code",
      "execution_count": null,
      "metadata": {
        "id": "5-K5evvcVN_F"
      },
      "outputs": [],
      "source": [
        "liste_rcr=rq.get(\"https://www.idref.fr/services/listrcr\") #On requête l'URL du webservice.\n",
        "liste_rcr_text=liste_rcr.text #On voit la tête de la réponse.\n",
        "liste_rcr_text"
      ]
    },
    {
      "cell_type": "code",
      "execution_count": null,
      "metadata": {
        "id": "eVugiYtMbJ4f"
      },
      "outputs": [],
      "source": [
        "lines=liste_rcr_text.split(\"\\n\")#Transformation de la réponse en tableau.\n",
        "header=lines[0].split(\"\\t\")\n",
        "header[0]=header[0].strip(\"\\ufeff\") #Pour ne pas avoir de bug dans le dataframe final avec les BOM.\n",
        "data=[line.split(\"\\t\") for line in lines[1:] if line]\n",
        "df_rcr=pd.DataFrame(data,columns=header) #Transformation en dataframe.\n",
        "df_rcr"
      ]
    },
    {
      "cell_type": "code",
      "execution_count": null,
      "metadata": {
        "id": "pzQf25wecmFN"
      },
      "outputs": [],
      "source": [
        "df_rcr.columns=df_rcr.columns.str.strip(\"\\ufeff\") #Nettoyage du dataframe (BOM, signe égal, guillemets et autres caractères parasites).\n",
        "df_rcr[\"RCR\"]=df_rcr[\"RCR\"].str.replace(\"=\",\"\")\n",
        "df_rcr[\"RCR\"]=df_rcr[\"RCR\"].str.replace('\"','')\n",
        "df_rcr[\"PPN\"]=df_rcr[\"PPN\"].str.replace(\"=\",\"\")\n",
        "df_rcr[\"PPN\"]=df_rcr[\"PPN\"].str.replace('\"','')\n",
        "df_rcr= df_rcr.rename(columns={\"LONGITUDE\\r\":\"LONGITUDE\"})\n",
        "df_rcr[\"LONGITUDE\"]=df_rcr[\"LONGITUDE\"].str.rstrip(\"\\r\")\n",
        "df_rcr"
      ]
    },
    {
      "cell_type": "markdown",
      "metadata": {
        "id": "YdRYPRl--o8S"
      },
      "source": [
        "###Sélection des données pertinentes destinées à alimenter le *dataframe* par RCR à construire pour une langue donnée"
      ]
    },
    {
      "cell_type": "markdown",
      "metadata": {
        "id": "7GyDntV1RMq8"
      },
      "source": [
        "Maintenant, il faut ne retenir dans le *dataframe* que 1. le n°RCR de ces bibliothèques, 2. leur PPN (utile pour les infobulles ultérieurement), 3. le nom complet, 4. les coordonnées géographiques."
      ]
    },
    {
      "cell_type": "code",
      "execution_count": null,
      "metadata": {
        "id": "E1iWw36yed5k"
      },
      "outputs": [],
      "source": [
        "df_rcr=df_rcr.filter(regex='^RCR$|^LIBELLE$|^PPN$|^LATITUDE$|^LONGITUDE$')#Sinon on a un bug à cause des BOM.\n",
        "df_rcr"
      ]
    },
    {
      "cell_type": "markdown",
      "metadata": {
        "id": "61e3HvGsvaJs"
      },
      "source": [
        "##Établir un *dataframe* avec tous les résultats par RCR pour une langue donnée"
      ]
    },
    {
      "cell_type": "markdown",
      "metadata": {
        "id": "HhdJVmfBxboB"
      },
      "source": [
        "###Création de la fonction de requête en fonction du numéro RCR et de la langue"
      ]
    },
    {
      "cell_type": "code",
      "execution_count": null,
      "metadata": {
        "id": "VlSXs6PKk0Sn"
      },
      "outputs": [],
      "source": [
        "langue_fr=input(\"Quelle est la langue dont vous souhaiteriez obtenir une cartographie des fonds dans le Sudoc ? \")#On pose la question de la langue à requêter."
      ]
    },
    {
      "cell_type": "code",
      "execution_count": null,
      "metadata": {
        "id": "mNJtUHa3niNd"
      },
      "outputs": [],
      "source": [
        "#À cette variable, on va en associer une autre correspondant au code ISO 639-2 dont se sert l'API du Sudoc pour ses codes de langue.\n",
        "langues=rq.get(\"https://www.loc.gov/standards/iso639-2/ISO-639-2_utf-8.txt\") #On va donc créer un dataframe avec les codes de langues, à partir de la liste publiée par la Library of Congress.\n",
        "langues.encoding=\"utf-8\"\n",
        "langues_text=langues.text.lstrip(\"\\ufeff\") #Encore une fois, pour ne pas avoir de bug dans le dataframe final avec les BOM.\n",
        "langues_text"
      ]
    },
    {
      "cell_type": "code",
      "execution_count": null,
      "metadata": {
        "id": "lM2fc9EnrWGW"
      },
      "outputs": [],
      "source": [
        "lines=langues_text.split(\"\\n\") #Création du dataframe des différentes langues.\n",
        "data_list=[]\n",
        "for line in lines:\n",
        "    if line.strip() != \"\":\n",
        "        columns = line.split(\"|\")\n",
        "        data_list.append({\n",
        "            \"Code\":columns[0],\n",
        "            \"Bibliographic\":columns[1],\n",
        "            \"Terminology\":columns[2],\n",
        "            \"French\":columns[4]\n",
        "        })\n",
        "df_langues=pd.DataFrame(data_list)\n",
        "df_langues"
      ]
    },
    {
      "cell_type": "code",
      "execution_count": null,
      "metadata": {
        "id": "LTnqH4mtuO8e"
      },
      "outputs": [],
      "source": [
        "langue=df_langues[df_langues[\"French\"].str.lower().str.contains(langue_fr.lower())][\"Code\"].values[0]\n",
        "langue"
      ]
    },
    {
      "cell_type": "markdown",
      "metadata": {
        "id": "KYZSpe3rwHo5"
      },
      "source": [
        "Attention !!! API du Sudoc distingue 10 langues pour lesquelles il faut utiliser la limitation LAN au lieu de LAI dans la requête API. On va donc devoir faire une disjonction entre les langues qu'il faudra requêter avec le code \"LAN\" et celle avec le code \"LAI\"."
      ]
    },
    {
      "cell_type": "code",
      "execution_count": null,
      "metadata": {
        "id": "tdHJU810wo8h"
      },
      "outputs": [],
      "source": [
        "LAN=[\"ger\",\"eng\",\"spa\",\"fre\",\"ita\",\"lat\",\"dut\",\"pol\",\"por\",\"rus\"] #On définit la liste des codes de langues centrales devant être requêtées avec le code \"LAN\" dans l'API du Sudoc."
      ]
    },
    {
      "cell_type": "code",
      "execution_count": null,
      "metadata": {
        "id": "8_BKjCh0rMse"
      },
      "outputs": [],
      "source": [
        "def get_langue_sudoc(RCR,langue):\n",
        "  if langue in LAN:\n",
        "   req=rq.get(f\"https://www.sudoc.abes.fr/cbs/sru/?operation=searchRetrieve&version=1.1&recordSchema=unimarc&query=rbc%3D{RCR}%20and%20lan%3D%22{langue}%22\")\n",
        "  else:req=rq.get(f\"https://www.sudoc.abes.fr/cbs/sru/?operation=searchRetrieve&version=1.1&recordSchema=unimarc&query=rbc%3D{RCR}%20and%20lai%3D%22{langue}%22\")\n",
        "  root_sudoc=et.fromstring(req.content)\n",
        "  for child in root_sudoc.findall(\"{http://www.loc.gov/zing/srw/}numberOfRecords\"):\n",
        "    return child.text"
      ]
    },
    {
      "cell_type": "code",
      "execution_count": null,
      "metadata": {
        "id": "31qKSq4H0aC2"
      },
      "outputs": [],
      "source": [
        "get_langue_sudoc(751052115,langue) #On teste la fonction pour la Nordique."
      ]
    },
    {
      "cell_type": "markdown",
      "metadata": {
        "id": "qoPpZIPVxhQY"
      },
      "source": [
        "###Création d'un *dataframe* des résultats pour tous les RCR pour une langue donnée (celle donnée par la réponse à la question \"Quelle est la langue dont vous souhaiteriez obtenir une cartographie des fonds dans le Sudoc ? \")"
      ]
    },
    {
      "cell_type": "code",
      "execution_count": null,
      "metadata": {
        "id": "9q8MUxEM5FAW"
      },
      "outputs": [],
      "source": [
        "df_rcr[\"Notices\"]=df_rcr.apply(lambda row: get_langue_sudoc(row[\"RCR\"],langue), axis=1)\n",
        "df_rcr"
      ]
    },
    {
      "cell_type": "markdown",
      "metadata": {
        "id": "xXkd71i_MFlH"
      },
      "source": [
        "La mise à jour du *dataframe* prend un certain temps (30 à 40 minutes)..."
      ]
    },
    {
      "cell_type": "code",
      "execution_count": null,
      "metadata": {
        "id": "fZmqE_jDtdZa"
      },
      "outputs": [],
      "source": [
        "df_rcr.dtypes #Ce n'est toujours pas propre pour les notices, qui ne sont pas au format numérique."
      ]
    },
    {
      "cell_type": "code",
      "execution_count": null,
      "metadata": {
        "id": "DfCpdrNCtmmS"
      },
      "outputs": [],
      "source": [
        "df_rcr[\"Notices\"]=pd.to_numeric(df_rcr[\"Notices\"]) #On veut que cette colonne contienne des données numériques.\n",
        "df_rcr.dtypes# On vérifie."
      ]
    },
    {
      "cell_type": "code",
      "execution_count": null,
      "metadata": {
        "id": "wUlXo9NpQbo8"
      },
      "outputs": [],
      "source": [
        "df_rcr=df_rcr[df_rcr[\"Notices\"]!=0] #On supprime les lignes des RCR qui n'ont pas de notices dans la langue concernée.\n",
        "df_rcr"
      ]
    },
    {
      "cell_type": "code",
      "execution_count": null,
      "metadata": {
        "id": "rtoqlHPA0mQv"
      },
      "outputs": [],
      "source": [
        "df_rcr=df_rcr.sort_values([\"Notices\"],ascending=False)#On retrie le dataframe pour afficher d'abord les RCR ayant le plus grand nombre de documents.\n",
        "df_rcr"
      ]
    },
    {
      "cell_type": "markdown",
      "source": [
        "###Ajout des données pertinentes concernant chaque RCR repéré (adresse du catalogue, mail)"
      ],
      "metadata": {
        "id": "vadgqlRAcI0z"
      }
    },
    {
      "cell_type": "markdown",
      "source": [
        "#### Définition de la fonction permettant d'obtenir l'adresse du catalogue et le mail pour chaque RCR (à insérer dans les infobulles plus tard)"
      ],
      "metadata": {
        "id": "5IPaCDRydSAM"
      }
    },
    {
      "cell_type": "code",
      "source": [
        "def get_cat_mail(PPN):\n",
        "  req_cat_mail=rq.get(f\"https://www.idref.fr/{PPN}.xml\")#Pour un PPN de RCR donné, on obtient sa notice dans IdRef au format XML.\n",
        "  root_cat_mail=et.fromstring(req_cat_mail.content)\n",
        "  cat_elt=root_cat_mail.find(\".//datafield[@tag='270']//subfield[@code='a']\") #On extrait le contenu de la zone avec l'adresse du catalogue du RCR.\n",
        "  mail_elt=root_cat_mail.find(\".//datafield[@tag='220']//subfield[@code='d']\") #On extrait le contenu de la zone renseignant l'adresse mail de contact associée au RCR.\n",
        "  if cat_elt is not None:\n",
        "    cat=cat_elt.text\n",
        "  else:\n",
        "    cat=None\n",
        "  if mail_elt is not None:\n",
        "    mail=mail_elt.text\n",
        "  else:\n",
        "    mail=None\n",
        "\n",
        "  if cat is not None and mail is not None: #La fonction retourne l'adresse du catalogue et l'adresse mail associées à chaque PPN de RCR.\n",
        "    return cat, mail\n",
        "  elif cat is None:\n",
        "    return \"Adresse catalogue manquante\", mail\n",
        "  else:\n",
        "    return cat, \"Adresse mail manquante\""
      ],
      "metadata": {
        "id": "GAyznamOdPq5"
      },
      "execution_count": null,
      "outputs": []
    },
    {
      "cell_type": "code",
      "source": [
        "get_cat_mail(\"050960164\") #On teste pour la Nordique."
      ],
      "metadata": {
        "id": "6BP2D3-Ht13i"
      },
      "execution_count": null,
      "outputs": []
    },
    {
      "cell_type": "code",
      "source": [
        "df_rcr[[\"Adresse catalogue\",\"Adresse mail\"]]=df_rcr[\"PPN\"].apply(lambda x:pd.Series(get_cat_mail(x))) #On rajoute deux colonnes au dataframe précédemment créé, l'une avec l'adresse du catalogue du RCR, l'autre avec son adresse mail de contact.\n",
        "df_rcr"
      ],
      "metadata": {
        "id": "6_7Kvt8cym9i"
      },
      "execution_count": null,
      "outputs": []
    },
    {
      "cell_type": "markdown",
      "metadata": {
        "id": "03fgT8j_1iEA"
      },
      "source": [
        "##Représentations cartographiques et diagrammes"
      ]
    },
    {
      "cell_type": "markdown",
      "metadata": {
        "id": "ic7fGeaNufVK"
      },
      "source": [
        "###Création du *geodataframe* et carte des RCR qui ont des notices dans la langue concernée"
      ]
    },
    {
      "cell_type": "markdown",
      "metadata": {
        "id": "LHZJGQ51uuK_"
      },
      "source": [
        "####Installation et importation des paquets nécessaires à la cartographie"
      ]
    },
    {
      "cell_type": "code",
      "execution_count": null,
      "metadata": {
        "id": "jOJXIhr7JtW4"
      },
      "outputs": [],
      "source": [
        "pip install geopandas"
      ]
    },
    {
      "cell_type": "code",
      "source": [
        "pip install jenkspy #Installation de la bibliothèque permettant des regroupements naturels entre bibliothèques par nombre de notices grâce à l'agorithme de Jenks."
      ],
      "metadata": {
        "id": "EF9q56TOlner"
      },
      "execution_count": null,
      "outputs": []
    },
    {
      "cell_type": "code",
      "execution_count": null,
      "metadata": {
        "id": "jpsg13-MxiJD"
      },
      "outputs": [],
      "source": [
        "import geopandas as gpd\n",
        "from shapely.geometry import Point\n",
        "from pyproj import CRS\n",
        "import folium\n",
        "from folium.plugins import MarkerCluster #Import du paquet permettant d'agréger géographiquement des groupes de bibliothèques dans la visualisation zoomable permise par Folium.\n",
        "from jenkspy import jenks_breaks #Import du paquet permettant d'utiliser les regroupements naturels entre bibliothèques.\n",
        "import matplotlib.pyplot as plt\n",
        "from datetime import datetime"
      ]
    },
    {
      "cell_type": "markdown",
      "metadata": {
        "id": "WZoxZDOMG92W"
      },
      "source": [
        "####Préparation des données du dataframe précédent et création du geodataframe"
      ]
    },
    {
      "cell_type": "code",
      "execution_count": null,
      "metadata": {
        "id": "q6h5emlGaX8W"
      },
      "outputs": [],
      "source": [
        "df_rcr[\"LATITUDE\"].replace(\"null\",None,inplace=True) #On doit s'occuper des RCR qui n'ont pas de données de géolocalisation.\n",
        "df_rcr[\"LONGITUDE\"].replace(\"null\",None,inplace=True)"
      ]
    },
    {
      "cell_type": "code",
      "execution_count": null,
      "metadata": {
        "id": "GxakiLqPaooW"
      },
      "outputs": [],
      "source": [
        "def create_point(row):\n",
        "    latitude=float(row[\"LATITUDE\"]) if row[\"LATITUDE\"] is not None else None\n",
        "    longitude=float(row[\"LONGITUDE\"]) if row[\"LONGITUDE\"] is not None else None\n",
        "    return Point(longitude,latitude) if latitude and longitude else None"
      ]
    },
    {
      "cell_type": "code",
      "execution_count": null,
      "metadata": {
        "id": "O9FUztYua132"
      },
      "outputs": [],
      "source": [
        "df_rcr[\"geometry\"]=df_rcr.apply(create_point,axis=1)"
      ]
    },
    {
      "cell_type": "code",
      "execution_count": null,
      "metadata": {
        "id": "rHX7i01ObBS1"
      },
      "outputs": [],
      "source": [
        "gdf=gpd.GeoDataFrame(df_rcr,geometry=\"geometry\")"
      ]
    },
    {
      "cell_type": "code",
      "execution_count": null,
      "metadata": {
        "id": "ovNIEVmlbHFl"
      },
      "outputs": [],
      "source": [
        "gdf"
      ]
    },
    {
      "cell_type": "code",
      "execution_count": null,
      "metadata": {
        "id": "qW024Fb195Qs"
      },
      "outputs": [],
      "source": [
        "print(gdf.crs)#Le CRS n'est pas défini pour le geodataframe !"
      ]
    },
    {
      "cell_type": "code",
      "execution_count": null,
      "metadata": {
        "id": "eDLoSgXFEOuG"
      },
      "outputs": [],
      "source": [
        "gdf.set_crs(epsg=4326,inplace=True) #On définit bien la colonne \"geometry\" avec le CRS classique \"longitude/latitude\"."
      ]
    },
    {
      "cell_type": "markdown",
      "source": [
        "####Export en csv historicisé"
      ],
      "metadata": {
        "id": "kKDVZZV2eSpZ"
      }
    },
    {
      "cell_type": "code",
      "source": [
        "aujourdhui=datetime.now().strftime(\"%Y%m%d\")\n",
        "nom_fichier=f\"{aujourdhui}_cabestan_export_{langue}.csv\"\n",
        "gdf.to_csv(nom_fichier,index=False)"
      ],
      "metadata": {
        "id": "iRknP6FkdQ0k"
      },
      "execution_count": null,
      "outputs": []
    },
    {
      "cell_type": "markdown",
      "metadata": {
        "id": "e3r6i9HpVorX"
      },
      "source": [
        "###Carte zoomable pondérée en fonction du nombre de notices avec Folium"
      ]
    },
    {
      "cell_type": "markdown",
      "metadata": {
        "id": "67WYZMaWj90M"
      },
      "source": [
        "Visualisation cartographique avec des données quantitatives concernant le nombre de notices\n"
      ]
    },
    {
      "cell_type": "code",
      "source": [
        "carte_pond=folium.Map(location=[46.603354, 1.888334],zoom_start=6)\n",
        "marker_cluster=MarkerCluster().add_to(carte_pond)\n",
        "notices_val=gdf[\"Notices\"].values\n",
        "breaks=jenks_breaks(notices_val,n_classes=3) #Définition de trois classes selon les seuils naturels de l'algorithme de Jenks.\n",
        "\n",
        "def couleur(notices): #Définition de la fonction définissant les couleurs associées à ces 3 classes (vert : RCR ayant le nombre de notices le plus bas, orange : classe intermédiaire, rouge : RCR ayant le nombre de notices le plus élevé).\n",
        "  if notices<=breaks[1]:\n",
        "    return \"green\"\n",
        "  elif breaks[1]<notices<=breaks[2]:\n",
        "    return \"orange\"\n",
        "  else:\n",
        "    return \"red\"\n",
        "\n",
        "for idx,row in gdf.iterrows():\n",
        "    if row.geometry: #Création des infobulles avec : 1. le nom du RCR, 2. son nombre de notices, 3. l'adresse de son catalogue, 4. l'adresse mail de contact.\n",
        "      popup_content=f\"<b>{row['LIBELLE']}</b><br>\" \\\n",
        "                    f\"Notices:{row['Notices']}<br>\" \\\n",
        "                    f\"Adresse catalogue: <a href='{row['Adresse catalogue']}' target='_blank'>{row['Adresse catalogue']}</a><br>\" \\\n",
        "                    f\"Adresse mail: <a href='mailto:{row['Adresse mail']}'>{row['Adresse mail']}</a>\"\n",
        "      folium.Marker(\n",
        "          location=[row.geometry.y, row.geometry.x],\n",
        "          popup=folium.Popup(popup_content, max_width=300),\n",
        "          tooltip=row[\"LIBELLE\"],\n",
        "          icon=folium.Icon(color=couleur(row[\"Notices\"]))\n",
        "      ).add_to(marker_cluster) #Création de la carte zoomable.\n",
        "carte_pond\n"
      ],
      "metadata": {
        "id": "DOjr_KLvVbJ6"
      },
      "execution_count": null,
      "outputs": []
    },
    {
      "cell_type": "code",
      "source": [
        "carte_pond.save(f\"{aujourdhui}_cabestan_carte_ponderee_{langue}.html\")"
      ],
      "metadata": {
        "id": "Q25VMsGSvHVJ"
      },
      "execution_count": null,
      "outputs": []
    },
    {
      "cell_type": "markdown",
      "metadata": {
        "id": "3RbojpFo1q3L"
      },
      "source": [
        "###Diagramme en barres des 25 premières bibliothèques posssédant des fonds dans la langue choisie en termes de nombre de notices"
      ]
    },
    {
      "cell_type": "code",
      "source": [
        "df_top_25=df_rcr.sort_values(\"Notices\",ascending=False).head(25) #On veut le top 25 du Sudoc en termes de nombres de notices.\n",
        "df_top_25=df_top_25.iloc[::-1] #On veut une présentation à l'horizontale avec les RCR ayant le plus grand nombre de notices en haut.\n",
        "date_aujourdhui=datetime.today().strftime(\"%d-%m-%Y\") #On historicise le diagramme en barres.\n",
        "plt.figure(figsize=(10, 8))\n",
        "bars=plt.barh(df_top_25[\"LIBELLE\"], df_top_25[\"Notices\"]) #On met le nom des RCR plutôt que leur numéro.\n",
        "for bar in bars:\n",
        "    plt.text(bar.get_width(),bar.get_y()+bar.get_height()/2,\n",
        "             f\"{bar.get_width():,.0f}\",\n",
        "             va=\"center\",ha=\"left\")\n",
        "plt.xlabel(\"Nombre de notices\")\n",
        "plt.ylabel(\"Bibliothèques\")\n",
        "plt.title(f\"Top 25 des RCR par nombre de notices de documents en {langue_fr} le {date_aujourdhui}\")\n",
        "plt.tight_layout()\n",
        "plt.show()"
      ],
      "metadata": {
        "id": "qdCXzjsMYUHw"
      },
      "execution_count": null,
      "outputs": []
    },
    {
      "cell_type": "code",
      "source": [
        "plt.clf()\n",
        "plt.savefig(f\"{aujourdhui}_cabestan_top_25_{langue}.jpg\",dpi=300,bbox_inches=\"tight\")"
      ],
      "metadata": {
        "id": "KygBWd58fVuC"
      },
      "execution_count": null,
      "outputs": []
    }
  ],
  "metadata": {
    "colab": {
      "provenance": [],
      "include_colab_link": true
    },
    "kernelspec": {
      "display_name": "Python 3",
      "name": "python3"
    },
    "language_info": {
      "name": "python"
    }
  },
  "nbformat": 4,
  "nbformat_minor": 0
}