{
  "nbformat": 4,
  "nbformat_minor": 0,
  "metadata": {
    "colab": {
      "provenance": [],
      "authorship_tag": "ABX9TyNKA43U6Zd6y8Fvzt+CAest",
      "include_colab_link": true
    },
    "kernelspec": {
      "name": "python3",
      "display_name": "Python 3"
    },
    "language_info": {
      "name": "python"
    }
  },
  "cells": [
    {
      "cell_type": "markdown",
      "metadata": {
        "id": "view-in-github",
        "colab_type": "text"
      },
      "source": [
        "<a href=\"https://colab.research.google.com/github/annasvenbro/etudesnordiques/blob/main/Test_suecana.ipynb\" target=\"_parent\"><img src=\"https://colab.research.google.com/assets/colab-badge.svg\" alt=\"Open In Colab\"/></a>"
      ]
    },
    {
      "cell_type": "markdown",
      "source": [
        "#Requêter *Suecana extranea* via l'API de Libris pour analyser la réception des ouvrages suédois en traduction française ou sur la Suède depuis 1868"
      ],
      "metadata": {
        "id": "hyeqJF2UhZof"
      }
    },
    {
      "cell_type": "markdown",
      "source": [
        "*Suecana extranea* est une bibliographie nationale suédoise (nom tiré du latin *Suecia* / Suède) recensant et décrivant toutes les publications originalement en suédois publiées en traduction à l'étranger, et tous les ouvrages parlant de la Suède publiés à l'étranger. Elle fait à présent partie du catalogue collectif suédois Libris, interrograble via une API en JSON."
      ],
      "metadata": {
        "id": "ZgUePnfbiw9E"
      }
    },
    {
      "cell_type": "markdown",
      "source": [
        "##Import des bibliothèques nécessaires à l'analyse"
      ],
      "metadata": {
        "id": "e7SZP1Y3hpc4"
      }
    },
    {
      "cell_type": "code",
      "source": [
        "import requests as rq #Requêtes HTTP en Python\n",
        "import json #JSON (format de sortie de l'API) pour Python.\n",
        "import json.decoder #Pour décoder les flux en JSON.\n",
        "import pandas as pd #Pour créer des dataframes pour pouvoir analyser les données.\n",
        "#https://libris.kb.se/xsearch?query=db:(suec)+spr:(fre)+ar:(2022)&n=200 est l'adresse de l'API de Libris qu'on va utiliser : elle recense tous les éléments de suecana extranea en français pour 2022, avec une limitation à 200 (ça n'arrivera jamsi jusque là)."
      ],
      "metadata": {
        "id": "iN3YTkJ6uChG"
      },
      "execution_count": null,
      "outputs": []
    },
    {
      "cell_type": "markdown",
      "source": [
        "##Première requête : on veut savoir combien d'ouvrages suédois traduits en français et d'ouvrages en français parlant de la Suède ont été publiés en 2022"
      ],
      "metadata": {
        "id": "81Wkpr9xipoc"
      }
    },
    {
      "cell_type": "code",
      "source": [
        "suecana_2022=rq.get(\"https://libris.kb.se/xsearch?query=db:(suec)+spr:(fre)+ar:(2022)&format=json&n=200\") #On requête l'API mentionnée en commentaire dans le bloc précédent.\n",
        "suecana_2022_json=suecana_2022.json() #On présente en JSON la liste des publications.\n",
        "suecana_2022_json #On l'affiche."
      ],
      "metadata": {
        "id": "NaMmX_DkHBoV"
      },
      "execution_count": null,
      "outputs": []
    },
    {
      "cell_type": "code",
      "source": [
        "nb_2022=suecana_2022_json[\"xsearch\"][\"records\"] #Maintenant, à partir de la construction du résultat de la reuqête en JSON, on extrait le nombre de publications dans la liste.\n",
        "nb_2022#On affiche le résultat."
      ],
      "metadata": {
        "id": "g4xVIL0neRw0",
        "colab": {
          "base_uri": "https://localhost:8080/"
        },
        "outputId": "238bf461-0199-4232-f290-b5ddf3477be7"
      },
      "execution_count": null,
      "outputs": [
        {
          "output_type": "execute_result",
          "data": {
            "text/plain": [
              "61"
            ]
          },
          "metadata": {},
          "execution_count": 4
        }
      ]
    },
    {
      "cell_type": "code",
      "source": [
        "suecana_2022_json[\"xsearch\"][\"list\"][34][\"creator\"] #On peut voir quel est l'auteur du 34e résultat de la liste de publications."
      ],
      "metadata": {
        "id": "GN8RzHCPZvyX"
      },
      "execution_count": null,
      "outputs": []
    },
    {
      "cell_type": "markdown",
      "source": [
        "##Fonction : on veut requêter le nombre d'ouvrages suédois traduits en français et d'ouvrages en français parlant de la Suède quelle que soit l'année"
      ],
      "metadata": {
        "id": "pHnJ07EQkv9_"
      }
    },
    {
      "cell_type": "code",
      "source": [
        "def get_suecana(annee):\n",
        "  req=rq.get(f\"https://libris.kb.se/xsearch?query=db:(suec)+spr:(fre)+ar:({annee})&format=json&n=200\")\n",
        "  req=req.json()\n",
        "  return req[\"xsearch\"][\"records\"]"
      ],
      "metadata": {
        "id": "fgbP5wNcb8uV"
      },
      "execution_count": null,
      "outputs": []
    },
    {
      "cell_type": "code",
      "source": [
        "get_suecana(1979) #Un exemple de ce que donne cette fonction pour 1979."
      ],
      "metadata": {
        "id": "J138077cc_yO",
        "colab": {
          "base_uri": "https://localhost:8080/"
        },
        "outputId": "de1d4f13-ca4d-42de-df63-ca41cb08dfbb"
      },
      "execution_count": null,
      "outputs": [
        {
          "output_type": "execute_result",
          "data": {
            "text/plain": [
              "57"
            ]
          },
          "metadata": {},
          "execution_count": 7
        }
      ]
    },
    {
      "cell_type": "markdown",
      "source": [
        "##On va étudier l'évolution du nombre de publications françaises présentes dans *Suecana extranea* depuis une date donnée (par exemple la date du don Dezos de la Roquette)"
      ],
      "metadata": {
        "id": "RX5US7W-lCNZ"
      }
    },
    {
      "cell_type": "code",
      "source": [
        "dict_suecana={} #On crée une variable (un dictionnaire) pour avoir les résultats de la requête par année. On l'initialise d'abord.\n",
        "for annee in range(1868,2023) : #On fait une boucle en for en fonction de l'année (de 1990 jusqu'à 2023-1=2022).\n",
        "  publications=get_suecana(annee)\n",
        "  dict_suecana[annee]=publications#On construit notre dictionnaire par année."
      ],
      "metadata": {
        "id": "8Cfj-NBMfk2N"
      },
      "execution_count": null,
      "outputs": []
    },
    {
      "cell_type": "code",
      "source": [
        "dict_suecana #On affiche le résultat."
      ],
      "metadata": {
        "id": "02uAlBEne7rP",
        "colab": {
          "base_uri": "https://localhost:8080/"
        },
        "outputId": "0550455b-0f44-4e6a-dbf6-16f8ff3d300c"
      },
      "execution_count": null,
      "outputs": [
        {
          "output_type": "execute_result",
          "data": {
            "text/plain": [
              "{1868: 0,\n",
              " 1869: 1,\n",
              " 1870: 0,\n",
              " 1871: 0,\n",
              " 1872: 3,\n",
              " 1873: 0,\n",
              " 1874: 0,\n",
              " 1875: 1,\n",
              " 1876: 0,\n",
              " 1877: 1,\n",
              " 1878: 2,\n",
              " 1879: 4,\n",
              " 1880: 1,\n",
              " 1881: 1,\n",
              " 1882: 2,\n",
              " 1883: 3,\n",
              " 1884: 1,\n",
              " 1885: 4,\n",
              " 1886: 3,\n",
              " 1887: 3,\n",
              " 1888: 1,\n",
              " 1889: 2,\n",
              " 1890: 1,\n",
              " 1891: 2,\n",
              " 1892: 4,\n",
              " 1893: 0,\n",
              " 1894: 6,\n",
              " 1895: 2,\n",
              " 1896: 1,\n",
              " 1897: 3,\n",
              " 1898: 6,\n",
              " 1899: 2,\n",
              " 1900: 8,\n",
              " 1901: 9,\n",
              " 1902: 5,\n",
              " 1903: 2,\n",
              " 1904: 4,\n",
              " 1905: 0,\n",
              " 1906: 0,\n",
              " 1907: 6,\n",
              " 1908: 3,\n",
              " 1909: 12,\n",
              " 1910: 13,\n",
              " 1911: 9,\n",
              " 1912: 4,\n",
              " 1913: 5,\n",
              " 1914: 1,\n",
              " 1915: 2,\n",
              " 1916: 0,\n",
              " 1917: 0,\n",
              " 1918: 2,\n",
              " 1919: 2,\n",
              " 1920: 4,\n",
              " 1921: 3,\n",
              " 1922: 4,\n",
              " 1923: 4,\n",
              " 1924: 7,\n",
              " 1925: 2,\n",
              " 1926: 7,\n",
              " 1927: 9,\n",
              " 1928: 3,\n",
              " 1929: 8,\n",
              " 1930: 4,\n",
              " 1931: 2,\n",
              " 1932: 3,\n",
              " 1933: 5,\n",
              " 1934: 1,\n",
              " 1935: 5,\n",
              " 1936: 1,\n",
              " 1937: 6,\n",
              " 1938: 5,\n",
              " 1939: 5,\n",
              " 1940: 5,\n",
              " 1941: 0,\n",
              " 1942: 3,\n",
              " 1943: 2,\n",
              " 1944: 4,\n",
              " 1945: 8,\n",
              " 1946: 10,\n",
              " 1947: 17,\n",
              " 1948: 8,\n",
              " 1949: 8,\n",
              " 1950: 8,\n",
              " 1951: 5,\n",
              " 1952: 8,\n",
              " 1953: 1,\n",
              " 1954: 8,\n",
              " 1955: 4,\n",
              " 1956: 5,\n",
              " 1957: 9,\n",
              " 1958: 13,\n",
              " 1959: 11,\n",
              " 1960: 15,\n",
              " 1961: 13,\n",
              " 1962: 11,\n",
              " 1963: 14,\n",
              " 1964: 13,\n",
              " 1965: 11,\n",
              " 1966: 14,\n",
              " 1967: 13,\n",
              " 1968: 10,\n",
              " 1969: 9,\n",
              " 1970: 7,\n",
              " 1971: 14,\n",
              " 1972: 11,\n",
              " 1973: 16,\n",
              " 1974: 31,\n",
              " 1975: 33,\n",
              " 1976: 57,\n",
              " 1977: 29,\n",
              " 1978: 39,\n",
              " 1979: 57,\n",
              " 1980: 54,\n",
              " 1981: 62,\n",
              " 1982: 47,\n",
              " 1983: 42,\n",
              " 1984: 43,\n",
              " 1985: 66,\n",
              " 1986: 74,\n",
              " 1987: 51,\n",
              " 1988: 75,\n",
              " 1989: 71,\n",
              " 1990: 64,\n",
              " 1991: 48,\n",
              " 1992: 80,\n",
              " 1993: 80,\n",
              " 1994: 76,\n",
              " 1995: 77,\n",
              " 1996: 66,\n",
              " 1997: 65,\n",
              " 1998: 66,\n",
              " 1999: 66,\n",
              " 2000: 60,\n",
              " 2001: 66,\n",
              " 2002: 56,\n",
              " 2003: 63,\n",
              " 2004: 58,\n",
              " 2005: 65,\n",
              " 2006: 64,\n",
              " 2007: 86,\n",
              " 2008: 91,\n",
              " 2009: 89,\n",
              " 2010: 100,\n",
              " 2011: 107,\n",
              " 2012: 101,\n",
              " 2013: 145,\n",
              " 2014: 113,\n",
              " 2015: 180,\n",
              " 2016: 158,\n",
              " 2017: 138,\n",
              " 2018: 128,\n",
              " 2019: 167,\n",
              " 2020: 105,\n",
              " 2021: 101,\n",
              " 2022: 61}"
            ]
          },
          "metadata": {},
          "execution_count": 9
        }
      ]
    },
    {
      "cell_type": "code",
      "source": [
        "df_suecana = pd.DataFrame.from_dict([dict_suecana]) #On transforme ce dictionnaire en dataframe.\n",
        "df_suecana #On affiche le dataframe."
      ],
      "metadata": {
        "id": "Uftm5Rdsl-Vx",
        "colab": {
          "base_uri": "https://localhost:8080/",
          "height": 110
        },
        "outputId": "c286f434-d4c2-44d4-9c53-46b76dddeba1"
      },
      "execution_count": null,
      "outputs": [
        {
          "output_type": "execute_result",
          "data": {
            "text/plain": [
              "   1868  1869  1870  1871  1872  1873  1874  1875  1876  1877  ...  2013  \\\n",
              "0     0     1     0     0     3     0     0     1     0     1  ...   145   \n",
              "\n",
              "   2014  2015  2016  2017  2018  2019  2020  2021  2022  \n",
              "0   113   180   158   138   128   167   105   101    61  \n",
              "\n",
              "[1 rows x 155 columns]"
            ],
            "text/html": [
              "\n",
              "  <div id=\"df-c83b77c1-426d-4391-b461-fa44ec995f8a\">\n",
              "    <div class=\"colab-df-container\">\n",
              "      <div>\n",
              "<style scoped>\n",
              "    .dataframe tbody tr th:only-of-type {\n",
              "        vertical-align: middle;\n",
              "    }\n",
              "\n",
              "    .dataframe tbody tr th {\n",
              "        vertical-align: top;\n",
              "    }\n",
              "\n",
              "    .dataframe thead th {\n",
              "        text-align: right;\n",
              "    }\n",
              "</style>\n",
              "<table border=\"1\" class=\"dataframe\">\n",
              "  <thead>\n",
              "    <tr style=\"text-align: right;\">\n",
              "      <th></th>\n",
              "      <th>1868</th>\n",
              "      <th>1869</th>\n",
              "      <th>1870</th>\n",
              "      <th>1871</th>\n",
              "      <th>1872</th>\n",
              "      <th>1873</th>\n",
              "      <th>1874</th>\n",
              "      <th>1875</th>\n",
              "      <th>1876</th>\n",
              "      <th>1877</th>\n",
              "      <th>...</th>\n",
              "      <th>2013</th>\n",
              "      <th>2014</th>\n",
              "      <th>2015</th>\n",
              "      <th>2016</th>\n",
              "      <th>2017</th>\n",
              "      <th>2018</th>\n",
              "      <th>2019</th>\n",
              "      <th>2020</th>\n",
              "      <th>2021</th>\n",
              "      <th>2022</th>\n",
              "    </tr>\n",
              "  </thead>\n",
              "  <tbody>\n",
              "    <tr>\n",
              "      <th>0</th>\n",
              "      <td>0</td>\n",
              "      <td>1</td>\n",
              "      <td>0</td>\n",
              "      <td>0</td>\n",
              "      <td>3</td>\n",
              "      <td>0</td>\n",
              "      <td>0</td>\n",
              "      <td>1</td>\n",
              "      <td>0</td>\n",
              "      <td>1</td>\n",
              "      <td>...</td>\n",
              "      <td>145</td>\n",
              "      <td>113</td>\n",
              "      <td>180</td>\n",
              "      <td>158</td>\n",
              "      <td>138</td>\n",
              "      <td>128</td>\n",
              "      <td>167</td>\n",
              "      <td>105</td>\n",
              "      <td>101</td>\n",
              "      <td>61</td>\n",
              "    </tr>\n",
              "  </tbody>\n",
              "</table>\n",
              "<p>1 rows × 155 columns</p>\n",
              "</div>\n",
              "      <button class=\"colab-df-convert\" onclick=\"convertToInteractive('df-c83b77c1-426d-4391-b461-fa44ec995f8a')\"\n",
              "              title=\"Convert this dataframe to an interactive table.\"\n",
              "              style=\"display:none;\">\n",
              "        \n",
              "  <svg xmlns=\"http://www.w3.org/2000/svg\" height=\"24px\"viewBox=\"0 0 24 24\"\n",
              "       width=\"24px\">\n",
              "    <path d=\"M0 0h24v24H0V0z\" fill=\"none\"/>\n",
              "    <path d=\"M18.56 5.44l.94 2.06.94-2.06 2.06-.94-2.06-.94-.94-2.06-.94 2.06-2.06.94zm-11 1L8.5 8.5l.94-2.06 2.06-.94-2.06-.94L8.5 2.5l-.94 2.06-2.06.94zm10 10l.94 2.06.94-2.06 2.06-.94-2.06-.94-.94-2.06-.94 2.06-2.06.94z\"/><path d=\"M17.41 7.96l-1.37-1.37c-.4-.4-.92-.59-1.43-.59-.52 0-1.04.2-1.43.59L10.3 9.45l-7.72 7.72c-.78.78-.78 2.05 0 2.83L4 21.41c.39.39.9.59 1.41.59.51 0 1.02-.2 1.41-.59l7.78-7.78 2.81-2.81c.8-.78.8-2.07 0-2.86zM5.41 20L4 18.59l7.72-7.72 1.47 1.35L5.41 20z\"/>\n",
              "  </svg>\n",
              "      </button>\n",
              "      \n",
              "  <style>\n",
              "    .colab-df-container {\n",
              "      display:flex;\n",
              "      flex-wrap:wrap;\n",
              "      gap: 12px;\n",
              "    }\n",
              "\n",
              "    .colab-df-convert {\n",
              "      background-color: #E8F0FE;\n",
              "      border: none;\n",
              "      border-radius: 50%;\n",
              "      cursor: pointer;\n",
              "      display: none;\n",
              "      fill: #1967D2;\n",
              "      height: 32px;\n",
              "      padding: 0 0 0 0;\n",
              "      width: 32px;\n",
              "    }\n",
              "\n",
              "    .colab-df-convert:hover {\n",
              "      background-color: #E2EBFA;\n",
              "      box-shadow: 0px 1px 2px rgba(60, 64, 67, 0.3), 0px 1px 3px 1px rgba(60, 64, 67, 0.15);\n",
              "      fill: #174EA6;\n",
              "    }\n",
              "\n",
              "    [theme=dark] .colab-df-convert {\n",
              "      background-color: #3B4455;\n",
              "      fill: #D2E3FC;\n",
              "    }\n",
              "\n",
              "    [theme=dark] .colab-df-convert:hover {\n",
              "      background-color: #434B5C;\n",
              "      box-shadow: 0px 1px 3px 1px rgba(0, 0, 0, 0.15);\n",
              "      filter: drop-shadow(0px 1px 2px rgba(0, 0, 0, 0.3));\n",
              "      fill: #FFFFFF;\n",
              "    }\n",
              "  </style>\n",
              "\n",
              "      <script>\n",
              "        const buttonEl =\n",
              "          document.querySelector('#df-c83b77c1-426d-4391-b461-fa44ec995f8a button.colab-df-convert');\n",
              "        buttonEl.style.display =\n",
              "          google.colab.kernel.accessAllowed ? 'block' : 'none';\n",
              "\n",
              "        async function convertToInteractive(key) {\n",
              "          const element = document.querySelector('#df-c83b77c1-426d-4391-b461-fa44ec995f8a');\n",
              "          const dataTable =\n",
              "            await google.colab.kernel.invokeFunction('convertToInteractive',\n",
              "                                                     [key], {});\n",
              "          if (!dataTable) return;\n",
              "\n",
              "          const docLinkHtml = 'Like what you see? Visit the ' +\n",
              "            '<a target=\"_blank\" href=https://colab.research.google.com/notebooks/data_table.ipynb>data table notebook</a>'\n",
              "            + ' to learn more about interactive tables.';\n",
              "          element.innerHTML = '';\n",
              "          dataTable['output_type'] = 'display_data';\n",
              "          await google.colab.output.renderOutput(dataTable, element);\n",
              "          const docLink = document.createElement('div');\n",
              "          docLink.innerHTML = docLinkHtml;\n",
              "          element.appendChild(docLink);\n",
              "        }\n",
              "      </script>\n",
              "    </div>\n",
              "  </div>\n",
              "  "
            ]
          },
          "metadata": {},
          "execution_count": 10
        }
      ]
    },
    {
      "cell_type": "code",
      "source": [
        "df_suecana=df_suecana.transpose() #On transpose les lignes et les colonnes.\n",
        "df_suecana #On affiche la nouvelle version du dataframe."
      ],
      "metadata": {
        "id": "7kshDZUnn6NO",
        "colab": {
          "base_uri": "https://localhost:8080/",
          "height": 423
        },
        "outputId": "837409f1-219e-47d0-f75b-e4d44d3f46a4"
      },
      "execution_count": null,
      "outputs": [
        {
          "output_type": "execute_result",
          "data": {
            "text/plain": [
              "        0\n",
              "1868    0\n",
              "1869    1\n",
              "1870    0\n",
              "1871    0\n",
              "1872    3\n",
              "...   ...\n",
              "2018  128\n",
              "2019  167\n",
              "2020  105\n",
              "2021  101\n",
              "2022   61\n",
              "\n",
              "[155 rows x 1 columns]"
            ],
            "text/html": [
              "\n",
              "  <div id=\"df-c884a3dc-acd0-4fc8-860c-6321f5d506b4\">\n",
              "    <div class=\"colab-df-container\">\n",
              "      <div>\n",
              "<style scoped>\n",
              "    .dataframe tbody tr th:only-of-type {\n",
              "        vertical-align: middle;\n",
              "    }\n",
              "\n",
              "    .dataframe tbody tr th {\n",
              "        vertical-align: top;\n",
              "    }\n",
              "\n",
              "    .dataframe thead th {\n",
              "        text-align: right;\n",
              "    }\n",
              "</style>\n",
              "<table border=\"1\" class=\"dataframe\">\n",
              "  <thead>\n",
              "    <tr style=\"text-align: right;\">\n",
              "      <th></th>\n",
              "      <th>0</th>\n",
              "    </tr>\n",
              "  </thead>\n",
              "  <tbody>\n",
              "    <tr>\n",
              "      <th>1868</th>\n",
              "      <td>0</td>\n",
              "    </tr>\n",
              "    <tr>\n",
              "      <th>1869</th>\n",
              "      <td>1</td>\n",
              "    </tr>\n",
              "    <tr>\n",
              "      <th>1870</th>\n",
              "      <td>0</td>\n",
              "    </tr>\n",
              "    <tr>\n",
              "      <th>1871</th>\n",
              "      <td>0</td>\n",
              "    </tr>\n",
              "    <tr>\n",
              "      <th>1872</th>\n",
              "      <td>3</td>\n",
              "    </tr>\n",
              "    <tr>\n",
              "      <th>...</th>\n",
              "      <td>...</td>\n",
              "    </tr>\n",
              "    <tr>\n",
              "      <th>2018</th>\n",
              "      <td>128</td>\n",
              "    </tr>\n",
              "    <tr>\n",
              "      <th>2019</th>\n",
              "      <td>167</td>\n",
              "    </tr>\n",
              "    <tr>\n",
              "      <th>2020</th>\n",
              "      <td>105</td>\n",
              "    </tr>\n",
              "    <tr>\n",
              "      <th>2021</th>\n",
              "      <td>101</td>\n",
              "    </tr>\n",
              "    <tr>\n",
              "      <th>2022</th>\n",
              "      <td>61</td>\n",
              "    </tr>\n",
              "  </tbody>\n",
              "</table>\n",
              "<p>155 rows × 1 columns</p>\n",
              "</div>\n",
              "      <button class=\"colab-df-convert\" onclick=\"convertToInteractive('df-c884a3dc-acd0-4fc8-860c-6321f5d506b4')\"\n",
              "              title=\"Convert this dataframe to an interactive table.\"\n",
              "              style=\"display:none;\">\n",
              "        \n",
              "  <svg xmlns=\"http://www.w3.org/2000/svg\" height=\"24px\"viewBox=\"0 0 24 24\"\n",
              "       width=\"24px\">\n",
              "    <path d=\"M0 0h24v24H0V0z\" fill=\"none\"/>\n",
              "    <path d=\"M18.56 5.44l.94 2.06.94-2.06 2.06-.94-2.06-.94-.94-2.06-.94 2.06-2.06.94zm-11 1L8.5 8.5l.94-2.06 2.06-.94-2.06-.94L8.5 2.5l-.94 2.06-2.06.94zm10 10l.94 2.06.94-2.06 2.06-.94-2.06-.94-.94-2.06-.94 2.06-2.06.94z\"/><path d=\"M17.41 7.96l-1.37-1.37c-.4-.4-.92-.59-1.43-.59-.52 0-1.04.2-1.43.59L10.3 9.45l-7.72 7.72c-.78.78-.78 2.05 0 2.83L4 21.41c.39.39.9.59 1.41.59.51 0 1.02-.2 1.41-.59l7.78-7.78 2.81-2.81c.8-.78.8-2.07 0-2.86zM5.41 20L4 18.59l7.72-7.72 1.47 1.35L5.41 20z\"/>\n",
              "  </svg>\n",
              "      </button>\n",
              "      \n",
              "  <style>\n",
              "    .colab-df-container {\n",
              "      display:flex;\n",
              "      flex-wrap:wrap;\n",
              "      gap: 12px;\n",
              "    }\n",
              "\n",
              "    .colab-df-convert {\n",
              "      background-color: #E8F0FE;\n",
              "      border: none;\n",
              "      border-radius: 50%;\n",
              "      cursor: pointer;\n",
              "      display: none;\n",
              "      fill: #1967D2;\n",
              "      height: 32px;\n",
              "      padding: 0 0 0 0;\n",
              "      width: 32px;\n",
              "    }\n",
              "\n",
              "    .colab-df-convert:hover {\n",
              "      background-color: #E2EBFA;\n",
              "      box-shadow: 0px 1px 2px rgba(60, 64, 67, 0.3), 0px 1px 3px 1px rgba(60, 64, 67, 0.15);\n",
              "      fill: #174EA6;\n",
              "    }\n",
              "\n",
              "    [theme=dark] .colab-df-convert {\n",
              "      background-color: #3B4455;\n",
              "      fill: #D2E3FC;\n",
              "    }\n",
              "\n",
              "    [theme=dark] .colab-df-convert:hover {\n",
              "      background-color: #434B5C;\n",
              "      box-shadow: 0px 1px 3px 1px rgba(0, 0, 0, 0.15);\n",
              "      filter: drop-shadow(0px 1px 2px rgba(0, 0, 0, 0.3));\n",
              "      fill: #FFFFFF;\n",
              "    }\n",
              "  </style>\n",
              "\n",
              "      <script>\n",
              "        const buttonEl =\n",
              "          document.querySelector('#df-c884a3dc-acd0-4fc8-860c-6321f5d506b4 button.colab-df-convert');\n",
              "        buttonEl.style.display =\n",
              "          google.colab.kernel.accessAllowed ? 'block' : 'none';\n",
              "\n",
              "        async function convertToInteractive(key) {\n",
              "          const element = document.querySelector('#df-c884a3dc-acd0-4fc8-860c-6321f5d506b4');\n",
              "          const dataTable =\n",
              "            await google.colab.kernel.invokeFunction('convertToInteractive',\n",
              "                                                     [key], {});\n",
              "          if (!dataTable) return;\n",
              "\n",
              "          const docLinkHtml = 'Like what you see? Visit the ' +\n",
              "            '<a target=\"_blank\" href=https://colab.research.google.com/notebooks/data_table.ipynb>data table notebook</a>'\n",
              "            + ' to learn more about interactive tables.';\n",
              "          element.innerHTML = '';\n",
              "          dataTable['output_type'] = 'display_data';\n",
              "          await google.colab.output.renderOutput(dataTable, element);\n",
              "          const docLink = document.createElement('div');\n",
              "          docLink.innerHTML = docLinkHtml;\n",
              "          element.appendChild(docLink);\n",
              "        }\n",
              "      </script>\n",
              "    </div>\n",
              "  </div>\n",
              "  "
            ]
          },
          "metadata": {},
          "execution_count": 11
        }
      ]
    },
    {
      "cell_type": "code",
      "source": [
        "df_suecana= df_suecana.rename_axis(\"Date\").reset_index() #On va indexer sur les dates.\n",
        "df_suecana= df_suecana.set_index(\"Date\") #On va renommer la colonne d'index avec \"Date\".\n",
        "df_suecana.columns=[\"Publications\"] #On va renommer la colonne de résultat en \"Publications\".\n",
        "df_suecana #On affiche le résultat."
      ],
      "metadata": {
        "id": "JD7U4uRIM8Lp",
        "colab": {
          "base_uri": "https://localhost:8080/",
          "height": 687
        },
        "outputId": "f1a6582d-8316-4aff-a8ad-166b1782d84e"
      },
      "execution_count": null,
      "outputs": [
        {
          "output_type": "execute_result",
          "data": {
            "text/plain": [
              "      Publications\n",
              "Date              \n",
              "1868             0\n",
              "1869             1\n",
              "1870             0\n",
              "1871             0\n",
              "1872             3\n",
              "...            ...\n",
              "2018           128\n",
              "2019           167\n",
              "2020           105\n",
              "2021           101\n",
              "2022            61\n",
              "\n",
              "[155 rows x 1 columns]"
            ],
            "text/html": [
              "\n",
              "  <div id=\"df-d6f1de77-861b-4d62-b75c-03414fd59166\">\n",
              "    <div class=\"colab-df-container\">\n",
              "      <div>\n",
              "<style scoped>\n",
              "    .dataframe tbody tr th:only-of-type {\n",
              "        vertical-align: middle;\n",
              "    }\n",
              "\n",
              "    .dataframe tbody tr th {\n",
              "        vertical-align: top;\n",
              "    }\n",
              "\n",
              "    .dataframe thead th {\n",
              "        text-align: right;\n",
              "    }\n",
              "</style>\n",
              "<table border=\"1\" class=\"dataframe\">\n",
              "  <thead>\n",
              "    <tr style=\"text-align: right;\">\n",
              "      <th></th>\n",
              "      <th>Publications</th>\n",
              "    </tr>\n",
              "    <tr>\n",
              "      <th>Date</th>\n",
              "      <th></th>\n",
              "    </tr>\n",
              "  </thead>\n",
              "  <tbody>\n",
              "    <tr>\n",
              "      <th>1868</th>\n",
              "      <td>0</td>\n",
              "    </tr>\n",
              "    <tr>\n",
              "      <th>1869</th>\n",
              "      <td>1</td>\n",
              "    </tr>\n",
              "    <tr>\n",
              "      <th>1870</th>\n",
              "      <td>0</td>\n",
              "    </tr>\n",
              "    <tr>\n",
              "      <th>1871</th>\n",
              "      <td>0</td>\n",
              "    </tr>\n",
              "    <tr>\n",
              "      <th>1872</th>\n",
              "      <td>3</td>\n",
              "    </tr>\n",
              "    <tr>\n",
              "      <th>...</th>\n",
              "      <td>...</td>\n",
              "    </tr>\n",
              "    <tr>\n",
              "      <th>2018</th>\n",
              "      <td>128</td>\n",
              "    </tr>\n",
              "    <tr>\n",
              "      <th>2019</th>\n",
              "      <td>167</td>\n",
              "    </tr>\n",
              "    <tr>\n",
              "      <th>2020</th>\n",
              "      <td>105</td>\n",
              "    </tr>\n",
              "    <tr>\n",
              "      <th>2021</th>\n",
              "      <td>101</td>\n",
              "    </tr>\n",
              "    <tr>\n",
              "      <th>2022</th>\n",
              "      <td>61</td>\n",
              "    </tr>\n",
              "  </tbody>\n",
              "</table>\n",
              "<p>155 rows × 1 columns</p>\n",
              "</div>\n",
              "      <button class=\"colab-df-convert\" onclick=\"convertToInteractive('df-d6f1de77-861b-4d62-b75c-03414fd59166')\"\n",
              "              title=\"Convert this dataframe to an interactive table.\"\n",
              "              style=\"display:none;\">\n",
              "        \n",
              "  <svg xmlns=\"http://www.w3.org/2000/svg\" height=\"24px\"viewBox=\"0 0 24 24\"\n",
              "       width=\"24px\">\n",
              "    <path d=\"M0 0h24v24H0V0z\" fill=\"none\"/>\n",
              "    <path d=\"M18.56 5.44l.94 2.06.94-2.06 2.06-.94-2.06-.94-.94-2.06-.94 2.06-2.06.94zm-11 1L8.5 8.5l.94-2.06 2.06-.94-2.06-.94L8.5 2.5l-.94 2.06-2.06.94zm10 10l.94 2.06.94-2.06 2.06-.94-2.06-.94-.94-2.06-.94 2.06-2.06.94z\"/><path d=\"M17.41 7.96l-1.37-1.37c-.4-.4-.92-.59-1.43-.59-.52 0-1.04.2-1.43.59L10.3 9.45l-7.72 7.72c-.78.78-.78 2.05 0 2.83L4 21.41c.39.39.9.59 1.41.59.51 0 1.02-.2 1.41-.59l7.78-7.78 2.81-2.81c.8-.78.8-2.07 0-2.86zM5.41 20L4 18.59l7.72-7.72 1.47 1.35L5.41 20z\"/>\n",
              "  </svg>\n",
              "      </button>\n",
              "      \n",
              "  <style>\n",
              "    .colab-df-container {\n",
              "      display:flex;\n",
              "      flex-wrap:wrap;\n",
              "      gap: 12px;\n",
              "    }\n",
              "\n",
              "    .colab-df-convert {\n",
              "      background-color: #E8F0FE;\n",
              "      border: none;\n",
              "      border-radius: 50%;\n",
              "      cursor: pointer;\n",
              "      display: none;\n",
              "      fill: #1967D2;\n",
              "      height: 32px;\n",
              "      padding: 0 0 0 0;\n",
              "      width: 32px;\n",
              "    }\n",
              "\n",
              "    .colab-df-convert:hover {\n",
              "      background-color: #E2EBFA;\n",
              "      box-shadow: 0px 1px 2px rgba(60, 64, 67, 0.3), 0px 1px 3px 1px rgba(60, 64, 67, 0.15);\n",
              "      fill: #174EA6;\n",
              "    }\n",
              "\n",
              "    [theme=dark] .colab-df-convert {\n",
              "      background-color: #3B4455;\n",
              "      fill: #D2E3FC;\n",
              "    }\n",
              "\n",
              "    [theme=dark] .colab-df-convert:hover {\n",
              "      background-color: #434B5C;\n",
              "      box-shadow: 0px 1px 3px 1px rgba(0, 0, 0, 0.15);\n",
              "      filter: drop-shadow(0px 1px 2px rgba(0, 0, 0, 0.3));\n",
              "      fill: #FFFFFF;\n",
              "    }\n",
              "  </style>\n",
              "\n",
              "      <script>\n",
              "        const buttonEl =\n",
              "          document.querySelector('#df-d6f1de77-861b-4d62-b75c-03414fd59166 button.colab-df-convert');\n",
              "        buttonEl.style.display =\n",
              "          google.colab.kernel.accessAllowed ? 'block' : 'none';\n",
              "\n",
              "        async function convertToInteractive(key) {\n",
              "          const element = document.querySelector('#df-d6f1de77-861b-4d62-b75c-03414fd59166');\n",
              "          const dataTable =\n",
              "            await google.colab.kernel.invokeFunction('convertToInteractive',\n",
              "                                                     [key], {});\n",
              "          if (!dataTable) return;\n",
              "\n",
              "          const docLinkHtml = 'Like what you see? Visit the ' +\n",
              "            '<a target=\"_blank\" href=https://colab.research.google.com/notebooks/data_table.ipynb>data table notebook</a>'\n",
              "            + ' to learn more about interactive tables.';\n",
              "          element.innerHTML = '';\n",
              "          dataTable['output_type'] = 'display_data';\n",
              "          await google.colab.output.renderOutput(dataTable, element);\n",
              "          const docLink = document.createElement('div');\n",
              "          docLink.innerHTML = docLinkHtml;\n",
              "          element.appendChild(docLink);\n",
              "        }\n",
              "      </script>\n",
              "    </div>\n",
              "  </div>\n",
              "  "
            ]
          },
          "metadata": {},
          "execution_count": 11
        }
      ]
    },
    {
      "cell_type": "markdown",
      "source": [
        "##Représentations graphiques"
      ],
      "metadata": {
        "id": "y6FzpReFyDni"
      }
    },
    {
      "cell_type": "markdown",
      "source": [
        "###À partir du module de représentation de pandas"
      ],
      "metadata": {
        "id": "7z3I3CNgf_M9"
      }
    },
    {
      "cell_type": "code",
      "source": [
        "from pandas import plotting #On importe la méthode plotting de pandas."
      ],
      "metadata": {
        "id": "NJ6owFv3zzkF"
      },
      "execution_count": null,
      "outputs": []
    },
    {
      "cell_type": "code",
      "source": [
        "df_suecana.plot(figsize=(25,5),kind=\"bar\",title=\"Les traductions du suédois vers le français ou les ouvrages français parlant de la Suède dans Suecana extranea\") #On trace un diagramme en barres à partir du dataframe précédent."
      ],
      "metadata": {
        "id": "l7c_VMmLS1KR",
        "colab": {
          "base_uri": "https://localhost:8080/",
          "height": 309
        },
        "outputId": "64fcccbd-f51a-4361-ecdc-4eb7de6521e5"
      },
      "execution_count": 19,
      "outputs": [
        {
          "output_type": "execute_result",
          "data": {
            "text/plain": [
              "<Axes: title={'center': 'Les traductions du suédois vers le français ou les ouvrages français parlant de la Suède dans Suecana extranea'}>"
            ]
          },
          "metadata": {},
          "execution_count": 19
        },
        {
          "output_type": "display_data",
          "data": {
            "text/plain": [
              "<Figure size 2500x500 with 1 Axes>"
            ],
            "image/png": "[encoded data removed]"
          },
          "metadata": {}
        }
      ]
    }
  ]
}