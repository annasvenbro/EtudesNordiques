{
  "nbformat": 4,
  "nbformat_minor": 0,
  "metadata": {
    "colab": {
      "provenance": [],
      "toc_visible": true,
      "authorship_tag": "ABX9TyMARUAD6AICZ6CfyEAN0KB9",
      "include_colab_link": true
    },
    "kernelspec": {
      "name": "python3",
      "display_name": "Python 3"
    },
    "language_info": {
      "name": "python"
    }
  },
  "cells": [
    {
      "cell_type": "markdown",
      "metadata": {
        "id": "view-in-github",
        "colab_type": "text"
      },
      "source": [
        "<a href=\"https://colab.research.google.com/github/annasvenbro/etudesnordiques/blob/main/Test_traductions_fre_swe_API_SRU_BnF.ipynb\" target=\"_parent\"><img src=\"https://colab.research.google.com/assets/colab-badge.svg\" alt=\"Open In Colab\"/></a>"
      ]
    },
    {
      "cell_type": "markdown",
      "source": [
        "#Requêter l'API SRU du Catalogue général de la BnF pour analyser la réception des ouvrages suédois en traduction française depuis 1868"
      ],
      "metadata": {
        "id": "ns8m8b2IKiEu"
      }
    },
    {
      "cell_type": "markdown",
      "source": [
        "Contrairement à Libris qui renvoie du JSON, le serveur SRU du Catalogue général de la BnF retourne du xml. Il faut donc procéder autrement qu'avec Libris..."
      ],
      "metadata": {
        "id": "B1c_V1MFKtTd"
      }
    },
    {
      "cell_type": "markdown",
      "source": [
        "##Import des paquets nécessaires"
      ],
      "metadata": {
        "id": "SoPpCYuN4w3q"
      }
    },
    {
      "cell_type": "code",
      "source": [
        "import requests as rq\n",
        "from bs4 import BeautifulSoup as bs\n",
        "import pandas as pd"
      ],
      "metadata": {
        "id": "hMpy4-jiyzfh"
      },
      "execution_count": null,
      "outputs": []
    },
    {
      "cell_type": "markdown",
      "source": [
        "##Première requête : on veut savoir combien d'ouvrages en français (101 @a fre en Unimarc) traduits du suédois (101 @c swe en Unimarc) datant de 1910 (par exemple) sont présents dans les collections ded la BnF"
      ],
      "metadata": {
        "id": "Q5ymcBq22GgM"
      }
    },
    {
      "cell_type": "code",
      "source": [
        "url_1910=rq.get(\"https://catalogue.bnf.fr/api/SRU?version=1.2&operation=searchRetrieve&query=(bib.language%20all%20%22swe%22)%20and%20(bib.language%20all%20%22fre%22)%20and%20(bib.publicationdate%20all%20%221910%22)&recordSchema=unimarcXchange&maximumRecords=1000&startRecord=1\")#On requête tous les ouvrages avec des codes de langue francais et suédois datant de 1910 dans l'API de la BnF.\n",
        "url_1910.content #On affiche le flux xml correspondant."
      ],
      "metadata": {
        "id": "Bzy_26C0Mj36"
      },
      "execution_count": null,
      "outputs": []
    },
    {
      "cell_type": "code",
      "source": [
        "soupe_1910=bs(url_1910.text,\"xml\") #On parse ce flux xml."
      ],
      "metadata": {
        "id": "ua19hNOKOA_n"
      },
      "execution_count": null,
      "outputs": []
    },
    {
      "cell_type": "code",
      "source": [
        "records_1910=soupe_1910.find_all(\"srw:record\")#On trouve les notices correspondantes."
      ],
      "metadata": {
        "id": "DWjGig1z1Leu"
      },
      "execution_count": null,
      "outputs": []
    },
    {
      "cell_type": "code",
      "source": [
        "compteur_1910=0 #On créé et on initialise le compteur\n",
        "for record in records_1910: #On boucle pour incrémenter le compteur en fonction du nombre de balises <records/> trouvées remplissant la condition définie.\n",
        "    datafields=record.find_all(\"mxc:datafield\",tag=\"101\",ind1=\"1\",ind2=\" \")\n",
        "    for datafield in datafields:\n",
        "        subfields=datafield.find_all(\"mxc:subfield\",code=\"a\")\n",
        "        for subfield in subfields:\n",
        "            if subfield.text==\"fre\":\n",
        "                subfield_c=datafield.find(\"mxc:subfield\",code=\"c\")\n",
        "                if subfield_c and subfield_c.text==\"swe\":\n",
        "                    compteur_1910+=1\n",
        "\n",
        "print(\"Nombre de traductions du suédois pour 1910 :\",compteur_1910)"
      ],
      "metadata": {
        "colab": {
          "base_uri": "https://localhost:8080/"
        },
        "id": "lRABpmEC1YdT",
        "outputId": "a1633810-32e5-4933-ae83-273b3257575a"
      },
      "execution_count": null,
      "outputs": [
        {
          "output_type": "stream",
          "name": "stdout",
          "text": [
            "Nombre de traductions du suédois pour 1910 : 2\n"
          ]
        }
      ]
    },
    {
      "cell_type": "markdown",
      "source": [
        "##Fonction : on veut requêter le nombre d'ouvrages suédois traduits en français quelle que soit l'année"
      ],
      "metadata": {
        "id": "gxEJ20Rz4qpJ"
      }
    },
    {
      "cell_type": "code",
      "source": [
        "def get_bnf(annee):\n",
        "  url=rq.get(f\"https://catalogue.bnf.fr/api/SRU?version=1.2&operation=searchRetrieve&query=(bib.language%20all%20%22swe%22)%20and%20(bib.language%20all%20%22fre%22)%20and%20(bib.publicationdate%20all%20%22{annee}%22)&recordSchema=unimarcXchange&maximumRecords=1000&startRecord=1\")#On insère la variable annee dans une f-string avec l'API.\n",
        "  soupe=bs(url.text,\"xml\")#On parse et on construit le compteur comme tout à l'heure.\n",
        "  records=soupe.find_all(\"srw:record\")\n",
        "  compteur=0 \n",
        "  for record in records: #On boucle pour incrémenter le compteur en fonction du nombre de balises <records/> trouvées remplissant la condition définie.\n",
        "    datafields=record.find_all(\"mxc:datafield\",tag=\"101\",ind1=\"1\",ind2=\" \")\n",
        "    for datafield in datafields:\n",
        "        subfields=datafield.find_all(\"mxc:subfield\",code=\"a\")\n",
        "        for subfield in subfields:\n",
        "            if subfield.text==\"fre\":\n",
        "                subfield_c=datafield.find(\"mxc:subfield\",code=\"c\")\n",
        "                if subfield_c and subfield_c.text==\"swe\":\n",
        "                    compteur+=1\n",
        "  return compteur"
      ],
      "metadata": {
        "id": "p0WeJkAr4Z5d"
      },
      "execution_count": null,
      "outputs": []
    },
    {
      "cell_type": "code",
      "source": [
        "get_bnf(1979) #On teste pour 1979."
      ],
      "metadata": {
        "colab": {
          "base_uri": "https://localhost:8080/"
        },
        "id": "do-fpXzg69Uu",
        "outputId": "e736b8c8-0434-4f22-ebed-18cd300ba7d6"
      },
      "execution_count": null,
      "outputs": [
        {
          "output_type": "execute_result",
          "data": {
            "text/plain": [
              "19"
            ]
          },
          "metadata": {},
          "execution_count": 49
        }
      ]
    },
    {
      "cell_type": "markdown",
      "source": [
        "##On va étudier l'évolution du nombre de publications françaises présentes dans le catalogue général de la BnF depuis une date donnée (par exemple la date du don Dezos de la Roquette)"
      ],
      "metadata": {
        "id": "9TDQ_2wW7KUX"
      }
    },
    {
      "cell_type": "markdown",
      "source": [
        "Warning !!! La requête pour créer le dictionnaire meut mouliner une bonne dizaine de minutes..."
      ],
      "metadata": {
        "id": "CC2yyW6K9Cyu"
      }
    },
    {
      "cell_type": "code",
      "source": [
        "dict_bnf={} #Comme avec Suecana, on crée une variable (un dictionnaire) pour avoir les résultats de la requête par année. On l'initialise d'abord.\n",
        "for annee in range(1868,2023) : #On fait une boucle en for en fonction de l'année (de 1990 jusqu'à 2023-1=2022).\n",
        "  publications=get_bnf(annee)\n",
        "  dict_bnf[annee]=publications#On construit notre dictionnaire par année."
      ],
      "metadata": {
        "id": "_139ksvO7RK5"
      },
      "execution_count": null,
      "outputs": []
    },
    {
      "cell_type": "code",
      "source": [
        "dict_bnf #On affice le résultat."
      ],
      "metadata": {
        "id": "HPZrqrJ2AyiF"
      },
      "execution_count": null,
      "outputs": []
    },
    {
      "cell_type": "code",
      "source": [
        "df_bnf = pd.DataFrame.from_dict([dict_bnf]) #On transforme ce dictionnaire en dataframe.\n",
        "df_bnf #On affiche le dataframe."
      ],
      "metadata": {
        "id": "BsmtlmOtA67T"
      },
      "execution_count": null,
      "outputs": []
    },
    {
      "cell_type": "code",
      "source": [
        "df_bnf=df_bnf.transpose() #Mêmes manips que pour le dataframe issu de l'API de Libris requêtant Suecana.\n",
        "df_bnf"
      ],
      "metadata": {
        "id": "e6R9Eq75BJ6T"
      },
      "execution_count": null,
      "outputs": []
    },
    {
      "cell_type": "code",
      "source": [
        "df_bnf=df_bnf.rename_axis(\"Date\").reset_index()\n",
        "df_bnf=df_bnf.set_index(\"Date\")\n",
        "df_bnf.columns=[\"Traductions\"]\n",
        "df_bnf"
      ],
      "metadata": {
        "colab": {
          "base_uri": "https://localhost:8080/",
          "height": 455
        },
        "id": "D61GT2WOBcvD",
        "outputId": "f25076fb-749e-4444-bb0a-74fe1bbed22c"
      },
      "execution_count": null,
      "outputs": [
        {
          "output_type": "execute_result",
          "data": {
            "text/plain": [
              "      Traductions\n",
              "Date             \n",
              "1868            1\n",
              "1869            0\n",
              "1870            0\n",
              "1871            0\n",
              "1872            0\n",
              "...           ...\n",
              "2018          121\n",
              "2019          145\n",
              "2020           82\n",
              "2021           97\n",
              "2022           87\n",
              "\n",
              "[155 rows x 1 columns]"
            ],
            "text/html": [
              "\n",
              "  <div id=\"df-4fa1b3cb-429e-4310-8ca3-405c9d653d3b\">\n",
              "    <div class=\"colab-df-container\">\n",
              "      <div>\n",
              "<style scoped>\n",
              "    .dataframe tbody tr th:only-of-type {\n",
              "        vertical-align: middle;\n",
              "    }\n",
              "\n",
              "    .dataframe tbody tr th {\n",
              "        vertical-align: top;\n",
              "    }\n",
              "\n",
              "    .dataframe thead th {\n",
              "        text-align: right;\n",
              "    }\n",
              "</style>\n",
              "<table border=\"1\" class=\"dataframe\">\n",
              "  <thead>\n",
              "    <tr style=\"text-align: right;\">\n",
              "      <th></th>\n",
              "      <th>Traductions</th>\n",
              "    </tr>\n",
              "    <tr>\n",
              "      <th>Date</th>\n",
              "      <th></th>\n",
              "    </tr>\n",
              "  </thead>\n",
              "  <tbody>\n",
              "    <tr>\n",
              "      <th>1868</th>\n",
              "      <td>1</td>\n",
              "    </tr>\n",
              "    <tr>\n",
              "      <th>1869</th>\n",
              "      <td>0</td>\n",
              "    </tr>\n",
              "    <tr>\n",
              "      <th>1870</th>\n",
              "      <td>0</td>\n",
              "    </tr>\n",
              "    <tr>\n",
              "      <th>1871</th>\n",
              "      <td>0</td>\n",
              "    </tr>\n",
              "    <tr>\n",
              "      <th>1872</th>\n",
              "      <td>0</td>\n",
              "    </tr>\n",
              "    <tr>\n",
              "      <th>...</th>\n",
              "      <td>...</td>\n",
              "    </tr>\n",
              "    <tr>\n",
              "      <th>2018</th>\n",
              "      <td>121</td>\n",
              "    </tr>\n",
              "    <tr>\n",
              "      <th>2019</th>\n",
              "      <td>145</td>\n",
              "    </tr>\n",
              "    <tr>\n",
              "      <th>2020</th>\n",
              "      <td>82</td>\n",
              "    </tr>\n",
              "    <tr>\n",
              "      <th>2021</th>\n",
              "      <td>97</td>\n",
              "    </tr>\n",
              "    <tr>\n",
              "      <th>2022</th>\n",
              "      <td>87</td>\n",
              "    </tr>\n",
              "  </tbody>\n",
              "</table>\n",
              "<p>155 rows × 1 columns</p>\n",
              "</div>\n",
              "      <button class=\"colab-df-convert\" onclick=\"convertToInteractive('df-4fa1b3cb-429e-4310-8ca3-405c9d653d3b')\"\n",
              "              title=\"Convert this dataframe to an interactive table.\"\n",
              "              style=\"display:none;\">\n",
              "        \n",
              "  <svg xmlns=\"http://www.w3.org/2000/svg\" height=\"24px\"viewBox=\"0 0 24 24\"\n",
              "       width=\"24px\">\n",
              "    <path d=\"M0 0h24v24H0V0z\" fill=\"none\"/>\n",
              "    <path d=\"M18.56 5.44l.94 2.06.94-2.06 2.06-.94-2.06-.94-.94-2.06-.94 2.06-2.06.94zm-11 1L8.5 8.5l.94-2.06 2.06-.94-2.06-.94L8.5 2.5l-.94 2.06-2.06.94zm10 10l.94 2.06.94-2.06 2.06-.94-2.06-.94-.94-2.06-.94 2.06-2.06.94z\"/><path d=\"M17.41 7.96l-1.37-1.37c-.4-.4-.92-.59-1.43-.59-.52 0-1.04.2-1.43.59L10.3 9.45l-7.72 7.72c-.78.78-.78 2.05 0 2.83L4 21.41c.39.39.9.59 1.41.59.51 0 1.02-.2 1.41-.59l7.78-7.78 2.81-2.81c.8-.78.8-2.07 0-2.86zM5.41 20L4 18.59l7.72-7.72 1.47 1.35L5.41 20z\"/>\n",
              "  </svg>\n",
              "      </button>\n",
              "      \n",
              "  <style>\n",
              "    .colab-df-container {\n",
              "      display:flex;\n",
              "      flex-wrap:wrap;\n",
              "      gap: 12px;\n",
              "    }\n",
              "\n",
              "    .colab-df-convert {\n",
              "      background-color: #E8F0FE;\n",
              "      border: none;\n",
              "      border-radius: 50%;\n",
              "      cursor: pointer;\n",
              "      display: none;\n",
              "      fill: #1967D2;\n",
              "      height: 32px;\n",
              "      padding: 0 0 0 0;\n",
              "      width: 32px;\n",
              "    }\n",
              "\n",
              "    .colab-df-convert:hover {\n",
              "      background-color: #E2EBFA;\n",
              "      box-shadow: 0px 1px 2px rgba(60, 64, 67, 0.3), 0px 1px 3px 1px rgba(60, 64, 67, 0.15);\n",
              "      fill: #174EA6;\n",
              "    }\n",
              "\n",
              "    [theme=dark] .colab-df-convert {\n",
              "      background-color: #3B4455;\n",
              "      fill: #D2E3FC;\n",
              "    }\n",
              "\n",
              "    [theme=dark] .colab-df-convert:hover {\n",
              "      background-color: #434B5C;\n",
              "      box-shadow: 0px 1px 3px 1px rgba(0, 0, 0, 0.15);\n",
              "      filter: drop-shadow(0px 1px 2px rgba(0, 0, 0, 0.3));\n",
              "      fill: #FFFFFF;\n",
              "    }\n",
              "  </style>\n",
              "\n",
              "      <script>\n",
              "        const buttonEl =\n",
              "          document.querySelector('#df-4fa1b3cb-429e-4310-8ca3-405c9d653d3b button.colab-df-convert');\n",
              "        buttonEl.style.display =\n",
              "          google.colab.kernel.accessAllowed ? 'block' : 'none';\n",
              "\n",
              "        async function convertToInteractive(key) {\n",
              "          const element = document.querySelector('#df-4fa1b3cb-429e-4310-8ca3-405c9d653d3b');\n",
              "          const dataTable =\n",
              "            await google.colab.kernel.invokeFunction('convertToInteractive',\n",
              "                                                     [key], {});\n",
              "          if (!dataTable) return;\n",
              "\n",
              "          const docLinkHtml = 'Like what you see? Visit the ' +\n",
              "            '<a target=\"_blank\" href=https://colab.research.google.com/notebooks/data_table.ipynb>data table notebook</a>'\n",
              "            + ' to learn more about interactive tables.';\n",
              "          element.innerHTML = '';\n",
              "          dataTable['output_type'] = 'display_data';\n",
              "          await google.colab.output.renderOutput(dataTable, element);\n",
              "          const docLink = document.createElement('div');\n",
              "          docLink.innerHTML = docLinkHtml;\n",
              "          element.appendChild(docLink);\n",
              "        }\n",
              "      </script>\n",
              "    </div>\n",
              "  </div>\n",
              "  "
            ]
          },
          "metadata": {},
          "execution_count": 58
        }
      ]
    },
    {
      "cell_type": "markdown",
      "source": [
        "##Représentation graphique"
      ],
      "metadata": {
        "id": "YCKFEerGB47b"
      }
    },
    {
      "cell_type": "code",
      "source": [
        "from pandas import plotting"
      ],
      "metadata": {
        "id": "jScYtoBZB8_P"
      },
      "execution_count": null,
      "outputs": []
    },
    {
      "cell_type": "code",
      "source": [
        "df_bnf.plot(figsize=(25,5),kind=\"bar\",title=\"Les traductions du suédois vers le français dans le Catalogue général de la BnF\")"
      ],
      "metadata": {
        "colab": {
          "base_uri": "https://localhost:8080/",
          "height": 263
        },
        "id": "yyFV-xYBCAVt",
        "outputId": "29d13ab5-b834-4396-9291-70e0c993f6a1"
      },
      "execution_count": 63,
      "outputs": [
        {
          "output_type": "execute_result",
          "data": {
            "text/plain": [
              "<Axes: title={'center': 'Les traductions du suédois vers le français dans le Catalogue général de la BnF'}, xlabel='Date'>"
            ]
          },
          "metadata": {},
          "execution_count": 63
        },
        {
          "output_type": "display_data",
          "data": {
            "text/plain": [
              "<Figure size 2500x500 with 1 Axes>"
            ],
            "image/png": "[encoded data removed]"
          },
          "metadata": {}
        }
      ]
    }
  ]
}